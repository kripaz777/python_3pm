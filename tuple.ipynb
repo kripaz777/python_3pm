{
 "cells": [
  {
   "cell_type": "code",
   "execution_count": 1,
   "id": "39ca6501",
   "metadata": {},
   "outputs": [],
   "source": [
    "# # tuple\n",
    "# -Indexing\n",
    "# -Multiple and duplicate\n",
    "# -Ordered\n",
    "# -IMutable"
   ]
  },
  {
   "cell_type": "code",
   "execution_count": 3,
   "id": "67b59ac7",
   "metadata": {},
   "outputs": [
    {
     "name": "stdout",
     "output_type": "stream",
     "text": [
      "(1, 2, 3, 4, 5, 6, 7, 8, 9, 10)\n",
      "<class 'tuple'>\n"
     ]
    }
   ],
   "source": [
    "a = (1,2,3,4,5,6,7,8,9,10)\n",
    "print(a)\n",
    "print(type(a))"
   ]
  },
  {
   "cell_type": "code",
   "execution_count": 6,
   "id": "a4256e5b",
   "metadata": {},
   "outputs": [
    {
     "name": "stdout",
     "output_type": "stream",
     "text": [
      "1\n",
      "(1, 2, 3, 4, 5, 6, 7, 8, 9)\n",
      "(1, 3, 5, 7, 9)\n"
     ]
    }
   ],
   "source": [
    "a = (1,2,3,4,5,6,7,8,9,10,1)\n",
    "print(a[0])\n",
    "print(a[0:9])\n",
    "print(a[0:9:2])"
   ]
  },
  {
   "cell_type": "code",
   "execution_count": 7,
   "id": "c6828449",
   "metadata": {},
   "outputs": [],
   "source": [
    "# No append() insert() extend()\n",
    "\n",
    "# No update\n",
    "\n",
    "# No delete del pop() remove()\n",
    "\n",
    "# No sort() reverse()"
   ]
  },
  {
   "cell_type": "code",
   "execution_count": 11,
   "id": "5d4a9bd0",
   "metadata": {},
   "outputs": [
    {
     "name": "stdout",
     "output_type": "stream",
     "text": [
      "<class 'tuple'>\n"
     ]
    }
   ],
   "source": [
    "# a = tuple()\n",
    "a = (1,)\n",
    "print(type(a))"
   ]
  },
  {
   "cell_type": "code",
   "execution_count": 12,
   "id": "936bf850",
   "metadata": {},
   "outputs": [
    {
     "name": "stdout",
     "output_type": "stream",
     "text": [
      "(1, 2, 3, 4, 5, 6, 7, 8)\n"
     ]
    }
   ],
   "source": [
    "a = (1,2,3,4)\n",
    "b = (5,6,7,8)\n",
    "c = a+b\n",
    "print(c)"
   ]
  },
  {
   "cell_type": "code",
   "execution_count": 13,
   "id": "bab9ad3d",
   "metadata": {},
   "outputs": [
    {
     "name": "stdout",
     "output_type": "stream",
     "text": [
      "(1, 2, 3, 4, 1, 2, 3, 4)\n"
     ]
    }
   ],
   "source": [
    "a = (1,2,3,4)\n",
    "print(a*2)"
   ]
  },
  {
   "cell_type": "code",
   "execution_count": 14,
   "id": "3813a892",
   "metadata": {},
   "outputs": [
    {
     "name": "stdout",
     "output_type": "stream",
     "text": [
      "Enter n = 5\n",
      "Enter x = 123\n",
      "Enter x = 345\n",
      "Enter x = 567\n",
      "Enter x = 234\n",
      "Enter x = 567\n",
      "(123, 345, 567, 234, 567)\n"
     ]
    }
   ],
   "source": [
    "t = ()\n",
    "n = int(input(\"Enter n = \"))\n",
    "for i in range(n):\n",
    "    x = int(input(\"Enter x = \"))\n",
    "    t = t + (x,)\n",
    "print(t)"
   ]
  },
  {
   "cell_type": "code",
   "execution_count": 16,
   "id": "11ba794a",
   "metadata": {},
   "outputs": [
    {
     "data": {
      "text/plain": [
       "(345, 567, 234, 567)"
      ]
     },
     "execution_count": 16,
     "metadata": {},
     "output_type": "execute_result"
    }
   ],
   "source": [
    "a = (123, 345, 567, 234, 567)\n",
    "b = list(a)\n",
    "del b[0]\n",
    "a = tuple(b)\n",
    "a"
   ]
  },
  {
   "cell_type": "code",
   "execution_count": null,
   "id": "d4443b53",
   "metadata": {},
   "outputs": [],
   "source": []
  }
 ],
 "metadata": {
  "kernelspec": {
   "display_name": "Python 3 (ipykernel)",
   "language": "python",
   "name": "python3"
  },
  "language_info": {
   "codemirror_mode": {
    "name": "ipython",
    "version": 3
   },
   "file_extension": ".py",
   "mimetype": "text/x-python",
   "name": "python",
   "nbconvert_exporter": "python",
   "pygments_lexer": "ipython3",
   "version": "3.9.12"
  }
 },
 "nbformat": 4,
 "nbformat_minor": 5
}
