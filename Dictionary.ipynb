{
 "cells": [
  {
   "cell_type": "code",
   "execution_count": 1,
   "id": "e2d84abe",
   "metadata": {},
   "outputs": [],
   "source": [
    "# Dictionary\n",
    "# Indexing\n",
    "# Multiple and duplicate data\n",
    "# ordered\n",
    "# Mutable"
   ]
  },
  {
   "cell_type": "code",
   "execution_count": 2,
   "id": "9666ea13",
   "metadata": {},
   "outputs": [],
   "source": [
    "# d = {<key>:<value>,<key>:<value>,<key>:<value>,<key>:<value>}"
   ]
  },
  {
   "cell_type": "code",
   "execution_count": 4,
   "id": "bc15a704",
   "metadata": {},
   "outputs": [
    {
     "name": "stdout",
     "output_type": "stream",
     "text": [
      "{'a': 'Appple', 'b': 'Ball', 'c': 'Cat', 'd': 'Dog', 'f': 'fish'}\n"
     ]
    },
    {
     "data": {
      "text/plain": [
       "dict"
      ]
     },
     "execution_count": 4,
     "metadata": {},
     "output_type": "execute_result"
    }
   ],
   "source": [
    "d = {'a':'Appple','b':'Ball','c':'Cat','d':'Dog','f':'fish'}\n",
    "print(d)\n",
    "type(d)"
   ]
  },
  {
   "cell_type": "code",
   "execution_count": 6,
   "id": "7580d142",
   "metadata": {},
   "outputs": [
    {
     "name": "stdout",
     "output_type": "stream",
     "text": [
      "Appple\n",
      "Ball\n"
     ]
    }
   ],
   "source": [
    "d = {'a':'Appple','b':'Ball','c':'Cat','d':'Dog','f':'fish'}\n",
    "print(d['a'])\n",
    "print(d['b'])"
   ]
  },
  {
   "cell_type": "code",
   "execution_count": 7,
   "id": "7e062cb8",
   "metadata": {},
   "outputs": [
    {
     "data": {
      "text/plain": [
       "{'a': 'Ant', 'b': 'Ball', 'c': 'Cat', 'd': 'Dog', 'f': 'fish'}"
      ]
     },
     "execution_count": 7,
     "metadata": {},
     "output_type": "execute_result"
    }
   ],
   "source": [
    "d = {'a':'Appple','b':'Ball','c':'Cat','d':'Dog','f':'fish','a':'Ant'}\n",
    "d"
   ]
  },
  {
   "cell_type": "code",
   "execution_count": 9,
   "id": "793e9f9f",
   "metadata": {},
   "outputs": [
    {
     "data": {
      "text/plain": [
       "{'a': 'Apple', 'b': 'Ball', 'c': 'Cat'}"
      ]
     },
     "execution_count": 9,
     "metadata": {},
     "output_type": "execute_result"
    }
   ],
   "source": [
    "d = {}\n",
    "d['a'] = 'Apple'\n",
    "d['b'] = 'Ball'\n",
    "d['c'] = 'Cat'\n",
    "d"
   ]
  },
  {
   "cell_type": "code",
   "execution_count": 11,
   "id": "63171e35",
   "metadata": {},
   "outputs": [
    {
     "name": "stdout",
     "output_type": "stream",
     "text": [
      "Enter n = 2\n",
      "Enter name = Apple\n",
      "Enter phone = 9808778765\n",
      "{'Apple': '9808778765'}\n",
      "Enter name = Shyam\n",
      "Enter phone = 9808778765\n",
      "{'Apple': '9808778765', 'Shyam': '9808778765'}\n"
     ]
    }
   ],
   "source": [
    "# WAP to create a dictionary taking name and phone as input value\n",
    "d = {}\n",
    "n = int(input(\"Enter n = \"))\n",
    "for i in range(n):\n",
    "    name = input(\"Enter name = \")\n",
    "    phone = input(\"Enter phone = \")\n",
    "    d[name] = phone\n",
    "    print(d)"
   ]
  },
  {
   "cell_type": "code",
   "execution_count": 14,
   "id": "1466290f",
   "metadata": {},
   "outputs": [
    {
     "data": {
      "text/plain": [
       "{'Ram': '9808778765', 'Shyam': '9808778765', 'Hari': 9808778765}"
      ]
     },
     "execution_count": 14,
     "metadata": {},
     "output_type": "execute_result"
    }
   ],
   "source": [
    "d = {'Ram': '9808778765', 'Shyam': '9808778765'}\n",
    "d['Hari'] = 9808778765\n",
    "d"
   ]
  },
  {
   "cell_type": "code",
   "execution_count": 15,
   "id": "7e2be1f7",
   "metadata": {},
   "outputs": [
    {
     "name": "stdout",
     "output_type": "stream",
     "text": [
      "Ram\n",
      "Shyam\n",
      "Hari\n"
     ]
    }
   ],
   "source": [
    "d = {'Ram': '9808778765', 'Shyam': '9808778765', 'Hari': 9808778765}\n",
    "for i in d:\n",
    "    print(i)"
   ]
  },
  {
   "cell_type": "code",
   "execution_count": 16,
   "id": "3d5ac89f",
   "metadata": {},
   "outputs": [
    {
     "name": "stdout",
     "output_type": "stream",
     "text": [
      "9808778765\n",
      "9808778765\n",
      "9808778765\n"
     ]
    }
   ],
   "source": [
    "d = {'Ram': '9808778765', 'Shyam': '9808778765', 'Hari': 9808778765}\n",
    "for i in d.values():\n",
    "    print(i)"
   ]
  },
  {
   "cell_type": "code",
   "execution_count": 17,
   "id": "5382b2f6",
   "metadata": {},
   "outputs": [
    {
     "name": "stdout",
     "output_type": "stream",
     "text": [
      "('Ram', '9808778765')\n",
      "('Shyam', '9808778765')\n",
      "('Hari', 9808778765)\n"
     ]
    }
   ],
   "source": [
    "d = {'Ram': '9808778765', 'Shyam': '9808778765', 'Hari': 9808778765}\n",
    "for i in d.items():\n",
    "    print(i)"
   ]
  },
  {
   "cell_type": "code",
   "execution_count": 18,
   "id": "feac5eb7",
   "metadata": {},
   "outputs": [
    {
     "data": {
      "text/plain": [
       "{'Shyam': '9808778765', 'Hari': '9808778765'}"
      ]
     },
     "execution_count": 18,
     "metadata": {},
     "output_type": "execute_result"
    }
   ],
   "source": [
    "# remove or delete key values\n",
    "#del pop()\n",
    "d = {'Ram': '9808778765', 'Shyam': '9808778765', 'Hari': '9808778765'}\n",
    "\n",
    "del d['Ram']\n",
    "d"
   ]
  },
  {
   "cell_type": "code",
   "execution_count": 20,
   "id": "b072bb9e",
   "metadata": {},
   "outputs": [
    {
     "name": "stdout",
     "output_type": "stream",
     "text": [
      "{'Shyam': '9808778765', 'Hari': '9808778765'}\n",
      "9808778765\n"
     ]
    }
   ],
   "source": [
    "d = {'Ram': '9808778765', 'Shyam': '9808778765', 'Hari': '9808778765'}\n",
    "a = d.pop('Ram')\n",
    "print(d)\n",
    "print(a)"
   ]
  },
  {
   "cell_type": "code",
   "execution_count": null,
   "id": "6ef9bec5",
   "metadata": {},
   "outputs": [],
   "source": [
    "# list inside dictionary\n",
    "d = {'Ram': [9808778765,9808667654], \n",
    "     'Shyam': [9808778765,9808778765], \n",
    "     'Hari': [9808778765,9808778765]}\n"
   ]
  },
  {
   "cell_type": "code",
   "execution_count": 21,
   "id": "d22b9547",
   "metadata": {},
   "outputs": [
    {
     "name": "stdout",
     "output_type": "stream",
     "text": [
      "Enter n = 2\n",
      "Enter name = Ram\n",
      "Enter ntc phone no = 9808778765\n",
      "Enter ncell phone no = 980889876\n",
      "{'Ram': ['9808778765', '980889876']}\n",
      "Enter name = Shyam\n",
      "Enter ntc phone no = 9845667654\n",
      "Enter ncell phone no = 9808667654\n",
      "{'Ram': ['9808778765', '980889876'], 'Shyam': ['9845667654', '9808667654']}\n"
     ]
    }
   ],
   "source": [
    "d = {}\n",
    "n = int(input(\"Enter n = \"))\n",
    "for i in range(n):\n",
    "    name = input(\"Enter name = \")\n",
    "    ntc_phone = input(\"Enter ntc phone no = \")\n",
    "    ncell_phone = input(\"Enter ncell phone no = \")\n",
    "    d[name] = [ntc_phone,ncell_phone]\n",
    "    print(d)\n"
   ]
  },
  {
   "cell_type": "code",
   "execution_count": 22,
   "id": "c2f5a5bd",
   "metadata": {},
   "outputs": [
    {
     "data": {
      "text/plain": [
       "{'name': ['Ram', 'Shyam', 'Hari'],\n",
       " 'age': [34, 56, 43],\n",
       " 'add': ['Kathmandu', 'Bhaktapur', 'Lalitpur']}"
      ]
     },
     "execution_count": 22,
     "metadata": {},
     "output_type": "execute_result"
    }
   ],
   "source": [
    "d = {'name':['Ram','Shyam','Hari'],\n",
    "    'age':[34,56,43],\n",
    "    'add':['Kathmandu','Bhaktapur','Lalitpur']}\n",
    "d"
   ]
  },
  {
   "cell_type": "code",
   "execution_count": 23,
   "id": "23a12d59",
   "metadata": {},
   "outputs": [
    {
     "name": "stdout",
     "output_type": "stream",
     "text": [
      "Enter n = 2\n",
      "Enter name = Ram\n",
      "Enter age = 89\n",
      "Enter add = Kathmandu\n",
      "Enter name = Shyam\n",
      "Enter age = 89\n",
      "Enter add = Bhaktapur\n",
      "{'name': ['Ram', 'Shyam'], 'age': ['89', '89'], 'add': ['Kathmandu', 'Bhaktapur']}\n"
     ]
    }
   ],
   "source": [
    "#list inside dict\n",
    "d = {'name':[],'age':[],'add':[]}\n",
    "\n",
    "n = int(input(\"Enter n = \"))\n",
    "for i in range(n):\n",
    "    name = input(\"Enter name = \")\n",
    "    age = input(\"Enter age = \")\n",
    "    add = input(\"Enter add = \")\n",
    "    d['name'].append(name)\n",
    "    d['age'].append(age)\n",
    "    d['add'].append(add)\n",
    "print(d)"
   ]
  },
  {
   "cell_type": "code",
   "execution_count": 29,
   "id": "5bcb50f5",
   "metadata": {},
   "outputs": [
    {
     "name": "stdout",
     "output_type": "stream",
     "text": [
      "9808778765\n",
      "9848667654\n"
     ]
    }
   ],
   "source": [
    "# Reading values\n",
    "d = {'Ram': [9808778765, 984889876], 'Shyam': [98045667654, 9848667654]}\n",
    "print(d['Ram'][0])\n",
    "print(d['Shyam'][1])"
   ]
  },
  {
   "cell_type": "code",
   "execution_count": 31,
   "id": "bd01ae6b",
   "metadata": {},
   "outputs": [
    {
     "data": {
      "text/plain": [
       "{'name': ['Ram', 'Shyam', 'Hari'],\n",
       " 'age': [34, 56, 43],\n",
       " 'add': ['Kathmandu', 'Bhaktapur', 'Lalitpur']}"
      ]
     },
     "execution_count": 31,
     "metadata": {},
     "output_type": "execute_result"
    }
   ],
   "source": [
    "d = {'name':['Ram','Shyam','Hari'],\n",
    "    'age':[34,56,43],\n",
    "    'add':['Kathmandu','Bhaktapur','Lalitpur']}\n",
    "d"
   ]
  },
  {
   "cell_type": "code",
   "execution_count": 32,
   "id": "0ab3708a",
   "metadata": {},
   "outputs": [
    {
     "name": "stdout",
     "output_type": "stream",
     "text": [
      "Ram 34 Kathmandu\n"
     ]
    }
   ],
   "source": [
    "print(d['name'][0],d['age'][0],d['add'][0])"
   ]
  },
  {
   "cell_type": "code",
   "execution_count": 33,
   "id": "95fd8330",
   "metadata": {},
   "outputs": [],
   "source": [
    "# dict inside dict"
   ]
  },
  {
   "cell_type": "code",
   "execution_count": 34,
   "id": "5dee5fc4",
   "metadata": {},
   "outputs": [
    {
     "data": {
      "text/plain": [
       "{1: {'name': 'Ram', 'age': 34, 'add': 'Kathmandu'},\n",
       " 2: {'name': 'Shyam', 'age': 64, 'add': 'Bhaktapur'},\n",
       " 3: {'name': 'Hari', 'age': 84, 'add': 'Lalitpur'}}"
      ]
     },
     "execution_count": 34,
     "metadata": {},
     "output_type": "execute_result"
    }
   ],
   "source": [
    "d = {1:{'name':'Ram','age':34,'add':'Kathmandu'},\n",
    "    2:{'name':'Shyam','age':64,'add':'Bhaktapur'},\n",
    "    3:{'name':'Hari','age':84,'add':'Lalitpur'}}\n",
    "d"
   ]
  },
  {
   "cell_type": "code",
   "execution_count": 35,
   "id": "432db50b",
   "metadata": {},
   "outputs": [
    {
     "name": "stdout",
     "output_type": "stream",
     "text": [
      "Enter n = 2\n",
      "Enter name = Ram\n",
      "Enter age = 67\n",
      "Enter add = Kathmandu\n",
      "Enter name = Shyam\n",
      "Enter age = 89\n",
      "Enter add = Bhaktapur\n",
      "{1: {'name': 'Ram', 'age': '67', 'add': 'Kathmandu'}, 2: {'name': 'Shyam', 'age': '89', 'add': 'Bhaktapur'}}\n"
     ]
    }
   ],
   "source": [
    "#list inside dict\n",
    "d = {}\n",
    "\n",
    "n = int(input(\"Enter n = \"))\n",
    "for i in range(1,n+1):\n",
    "    name = input(\"Enter name = \")\n",
    "    age = input(\"Enter age = \")\n",
    "    add = input(\"Enter add = \")\n",
    "    d[i] = {'name': name, 'age': age, 'add': add}\n",
    "    \n",
    "print(d)"
   ]
  },
  {
   "cell_type": "code",
   "execution_count": 1,
   "id": "94c1edad",
   "metadata": {},
   "outputs": [
    {
     "data": {
      "text/plain": [
       "{1: {'name': 'Ram', 'age': '67', 'add': 'Kathmandu'},\n",
       " 2: {'name': 'Shyam', 'age': '89', 'add': 'Bhaktapur'},\n",
       " 3: {'name': 'Hari', 'age': '49', 'add': 'Bhaktapur'}}"
      ]
     },
     "execution_count": 1,
     "metadata": {},
     "output_type": "execute_result"
    }
   ],
   "source": [
    "d = {1: {'name': 'Ram', 'age': '67', 'add': 'Kathmandu'}, \n",
    "     2: {'name': 'Shyam', 'age': '89', 'add': 'Bhaktapur'}}\n",
    "d[3] = {'name': 'Hari', 'age': '49', 'add': 'Bhaktapur'}\n",
    "d"
   ]
  },
  {
   "cell_type": "code",
   "execution_count": 2,
   "id": "08be9752",
   "metadata": {},
   "outputs": [
    {
     "data": {
      "text/plain": [
       "{1: {'name': 'Ram Prasad', 'age': '67', 'add': 'Kathmandu'},\n",
       " 2: {'name': 'Shyam', 'age': '89', 'add': 'Bhaktapur'},\n",
       " 3: {'name': 'Hari', 'age': '49', 'add': 'Bhaktapur'}}"
      ]
     },
     "execution_count": 2,
     "metadata": {},
     "output_type": "execute_result"
    }
   ],
   "source": [
    "d[1]['name'] = 'Ram Prasad'\n",
    "d"
   ]
  },
  {
   "cell_type": "code",
   "execution_count": 3,
   "id": "86b41f66",
   "metadata": {},
   "outputs": [
    {
     "name": "stdout",
     "output_type": "stream",
     "text": [
      "{2: {'name': 'Shyam', 'age': '89', 'add': 'Bhaktapur'}, 3: {'name': 'Hari', 'age': '49', 'add': 'Bhaktapur'}}\n"
     ]
    }
   ],
   "source": [
    "del d[1]\n",
    "print(d)"
   ]
  },
  {
   "cell_type": "code",
   "execution_count": null,
   "id": "a8b9169b",
   "metadata": {},
   "outputs": [],
   "source": []
  }
 ],
 "metadata": {
  "kernelspec": {
   "display_name": "Python 3 (ipykernel)",
   "language": "python",
   "name": "python3"
  },
  "language_info": {
   "codemirror_mode": {
    "name": "ipython",
    "version": 3
   },
   "file_extension": ".py",
   "mimetype": "text/x-python",
   "name": "python",
   "nbconvert_exporter": "python",
   "pygments_lexer": "ipython3",
   "version": "3.9.12"
  }
 },
 "nbformat": 4,
 "nbformat_minor": 5
}
