{
 "cells": [
  {
   "cell_type": "code",
   "execution_count": null,
   "id": "5c8d4701",
   "metadata": {},
   "outputs": [],
   "source": [
    "# Lambda function/Annynomous Function:\n",
    "# map() , filter()"
   ]
  },
  {
   "cell_type": "code",
   "execution_count": 1,
   "id": "4e236480",
   "metadata": {},
   "outputs": [
    {
     "data": {
      "text/plain": [
       "64"
      ]
     },
     "execution_count": 1,
     "metadata": {},
     "output_type": "execute_result"
    }
   ],
   "source": [
    "a = lambda x:x**3\n",
    "a(4)"
   ]
  },
  {
   "cell_type": "code",
   "execution_count": 3,
   "id": "3bd05257",
   "metadata": {},
   "outputs": [
    {
     "data": {
      "text/plain": [
       "50"
      ]
     },
     "execution_count": 3,
     "metadata": {},
     "output_type": "execute_result"
    }
   ],
   "source": [
    "a = lambda l,b:l*b\n",
    "a(10,5)"
   ]
  },
  {
   "cell_type": "code",
   "execution_count": 4,
   "id": "9db5f078",
   "metadata": {},
   "outputs": [
    {
     "data": {
      "text/plain": [
       "[54, 56, 66, 12, 6]"
      ]
     },
     "execution_count": 4,
     "metadata": {},
     "output_type": "execute_result"
    }
   ],
   "source": [
    "a = [23,43,54,23,56,66,89,12,45,6,89]\n",
    "list(filter(lambda x:x%2==0, a))"
   ]
  },
  {
   "cell_type": "code",
   "execution_count": 5,
   "id": "74cdbcf0",
   "metadata": {},
   "outputs": [
    {
     "data": {
      "text/plain": [
       "['Apple', 'Ball', 'Fish']"
      ]
     },
     "execution_count": 5,
     "metadata": {},
     "output_type": "execute_result"
    }
   ],
   "source": [
    "a = [\"Apple\",\"Ball\",\"cat\",\"Fish\",\"goat\"]\n",
    "list(filter(lambda x:x[0].isupper(), a))"
   ]
  },
  {
   "cell_type": "code",
   "execution_count": 6,
   "id": "492e19ec",
   "metadata": {},
   "outputs": [
    {
     "data": {
      "text/plain": [
       "['apple', 'ball', 'cat', 'fish', 'goat']"
      ]
     },
     "execution_count": 6,
     "metadata": {},
     "output_type": "execute_result"
    }
   ],
   "source": [
    "# mapping\n",
    "a = [\"Apple\",\"Ball\",\"cat\",\"Fish\",\"goat\"]\n",
    "list(map(lambda x:x.lower(), a))"
   ]
  },
  {
   "cell_type": "code",
   "execution_count": 7,
   "id": "7d837759",
   "metadata": {},
   "outputs": [
    {
     "data": {
      "text/plain": [
       "[1, 4, 9, 16, 25, 36, 49, 64, 81]"
      ]
     },
     "execution_count": 7,
     "metadata": {},
     "output_type": "execute_result"
    }
   ],
   "source": [
    "a = [1,2,3,4,5,6,7,8,9]\n",
    "list(map(lambda x:x**2, a))"
   ]
  },
  {
   "cell_type": "code",
   "execution_count": 8,
   "id": "1a8e1699",
   "metadata": {},
   "outputs": [
    {
     "data": {
      "text/plain": [
       "['.ipynb_checkpoints',\n",
       " 'Basic IO.ipynb',\n",
       " 'csv and pandas.ipynb',\n",
       " 'data.csv',\n",
       " 'data.txt',\n",
       " 'datas.csv',\n",
       " 'datas.txt',\n",
       " 'Dictionary.ipynb',\n",
       " 'excep han.ipynb',\n",
       " 'file.ipynb',\n",
       " 'first_class.ipynb',\n",
       " 'function.ipynb',\n",
       " 'inheritance.ipynb',\n",
       " 'list.ipynb',\n",
       " 'list_data.csv',\n",
       " 'loop.ipynb',\n",
       " 'map and filter.ipynb',\n",
       " 'new_data.csv',\n",
       " 'oop.ipynb',\n",
       " 'set.ipynb',\n",
       " 'string.ipynb',\n",
       " 'tuple.ipynb',\n",
       " 'Untitled.ipynb',\n",
       " 'Untitled1.ipynb']"
      ]
     },
     "execution_count": 8,
     "metadata": {},
     "output_type": "execute_result"
    }
   ],
   "source": [
    "# os package\n",
    "import os\n",
    "os.listdir()"
   ]
  },
  {
   "cell_type": "code",
   "execution_count": 9,
   "id": "fe676d21",
   "metadata": {},
   "outputs": [],
   "source": [
    "# mkdir() chdir() rmdir() remove() rename()\n"
   ]
  },
  {
   "cell_type": "code",
   "execution_count": 12,
   "id": "7814207d",
   "metadata": {},
   "outputs": [
    {
     "name": "stdout",
     "output_type": "stream",
     "text": [
      "The folder is already there\n"
     ]
    }
   ],
   "source": [
    "import os\n",
    "try:\n",
    "    os.mkdir('newFolder')\n",
    "except:\n",
    "    print(\"The folder is already there\")"
   ]
  },
  {
   "cell_type": "code",
   "execution_count": 13,
   "id": "7f23e5af",
   "metadata": {},
   "outputs": [],
   "source": [
    "os.chdir('newFolder')"
   ]
  },
  {
   "cell_type": "code",
   "execution_count": 14,
   "id": "4ed7fd56",
   "metadata": {},
   "outputs": [
    {
     "data": {
      "text/plain": [
       "'C:\\\\Users\\\\Aayush\\\\new_Python_class3pm\\\\newFolder'"
      ]
     },
     "execution_count": 14,
     "metadata": {},
     "output_type": "execute_result"
    }
   ],
   "source": [
    "pwd"
   ]
  },
  {
   "cell_type": "code",
   "execution_count": 15,
   "id": "6760375f",
   "metadata": {},
   "outputs": [
    {
     "name": "stdout",
     "output_type": "stream",
     "text": [
      "C:\\Users\\Aayush\\new_Python_class3pm\n"
     ]
    }
   ],
   "source": [
    "cd .."
   ]
  },
  {
   "cell_type": "code",
   "execution_count": 16,
   "id": "a08b0843",
   "metadata": {},
   "outputs": [],
   "source": [
    "os.rmdir('newFolder')"
   ]
  },
  {
   "cell_type": "code",
   "execution_count": 18,
   "id": "0bfa790e",
   "metadata": {},
   "outputs": [],
   "source": [
    "os.mkdir('newFolder')\n"
   ]
  },
  {
   "cell_type": "code",
   "execution_count": 19,
   "id": "a491e460",
   "metadata": {},
   "outputs": [],
   "source": [
    "os.rename('newFolder','new_folder')"
   ]
  },
  {
   "cell_type": "code",
   "execution_count": 20,
   "id": "29169fca",
   "metadata": {},
   "outputs": [],
   "source": [
    "# Comprihensons list dict"
   ]
  },
  {
   "cell_type": "code",
   "execution_count": 22,
   "id": "78e72a2b",
   "metadata": {},
   "outputs": [
    {
     "data": {
      "text/plain": [
       "[0, 1, 2, 3, 4]"
      ]
     },
     "execution_count": 22,
     "metadata": {},
     "output_type": "execute_result"
    }
   ],
   "source": [
    "a = [i for i in range(5)]\n",
    "a"
   ]
  },
  {
   "cell_type": "code",
   "execution_count": 24,
   "id": "505dd20c",
   "metadata": {},
   "outputs": [
    {
     "name": "stdout",
     "output_type": "stream",
     "text": [
      "Enter value23\n",
      "Enter value34\n",
      "Enter value546\n",
      "Enter value67\n",
      "Enter value789\n"
     ]
    },
    {
     "data": {
      "text/plain": [
       "[23, 34, 546, 67, 789]"
      ]
     },
     "execution_count": 24,
     "metadata": {},
     "output_type": "execute_result"
    }
   ],
   "source": [
    "a = [int(input(\"Enter value\")) for i in range(5)]\n",
    "a"
   ]
  },
  {
   "cell_type": "code",
   "execution_count": 25,
   "id": "9812a8c7",
   "metadata": {},
   "outputs": [
    {
     "data": {
      "text/plain": [
       "[1, 4, 9, 16, 25, 36, 49, 64, 81]"
      ]
     },
     "execution_count": 25,
     "metadata": {},
     "output_type": "execute_result"
    }
   ],
   "source": [
    "a = [1,2,3,4,5,6,7,8,9]\n",
    "b = [i**2 for i in a]\n",
    "b"
   ]
  },
  {
   "cell_type": "code",
   "execution_count": 26,
   "id": "9ebf7c2f",
   "metadata": {},
   "outputs": [
    {
     "name": "stdout",
     "output_type": "stream",
     "text": [
      "Enter name = Ram\n",
      "Enter phone = 9808667654\n",
      "Enter name = Shyam\n",
      "Enter phone = 9808667654\n"
     ]
    },
    {
     "data": {
      "text/plain": [
       "{'Ram': '9808667654', 'Shyam': '9808667654'}"
      ]
     },
     "execution_count": 26,
     "metadata": {},
     "output_type": "execute_result"
    }
   ],
   "source": [
    "d = {input('Enter name = '):input(\"Enter phone = \") for i in range(2)}\n",
    "d"
   ]
  },
  {
   "cell_type": "code",
   "execution_count": 27,
   "id": "306c5fe1",
   "metadata": {},
   "outputs": [
    {
     "data": {
      "text/plain": [
       "{'Apple': 'apple',\n",
       " 'Ball': 'ball',\n",
       " 'cat': 'cat',\n",
       " 'Fish': 'fish',\n",
       " 'goat': 'goat'}"
      ]
     },
     "execution_count": 27,
     "metadata": {},
     "output_type": "execute_result"
    }
   ],
   "source": [
    "a = [\"Apple\",\"Ball\",\"cat\",\"Fish\",\"goat\"]\n",
    "b = {i:i.lower() for i in a}\n",
    "b"
   ]
  },
  {
   "cell_type": "code",
   "execution_count": 30,
   "id": "aa49e4a2",
   "metadata": {},
   "outputs": [
    {
     "data": {
      "text/plain": [
       "['apple', 'ball', 'cat', 'fish', 'goat']"
      ]
     },
     "execution_count": 30,
     "metadata": {},
     "output_type": "execute_result"
    }
   ],
   "source": [
    "list(b.values())"
   ]
  },
  {
   "cell_type": "code",
   "execution_count": null,
   "id": "94ab1cfc",
   "metadata": {},
   "outputs": [],
   "source": []
  }
 ],
 "metadata": {
  "kernelspec": {
   "display_name": "Python 3 (ipykernel)",
   "language": "python",
   "name": "python3"
  },
  "language_info": {
   "codemirror_mode": {
    "name": "ipython",
    "version": 3
   },
   "file_extension": ".py",
   "mimetype": "text/x-python",
   "name": "python",
   "nbconvert_exporter": "python",
   "pygments_lexer": "ipython3",
   "version": "3.9.12"
  }
 },
 "nbformat": 4,
 "nbformat_minor": 5
}
