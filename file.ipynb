{
 "cells": [
  {
   "cell_type": "code",
   "execution_count": 1,
   "id": "59236fe2",
   "metadata": {},
   "outputs": [],
   "source": [
    "# # file = open('<file_name>','<mode>')\n",
    "# # file.close()\n",
    "\n",
    "# with open('<file_name>','<mode>') as file:\n",
    "#     <operations>\n",
    "\n",
    "\n",
    "#modes\n",
    "# read -> r\n",
    "# create -> x\n",
    "# write -> w\n",
    "# append -> a"
   ]
  },
  {
   "cell_type": "code",
   "execution_count": 2,
   "id": "1120f96c",
   "metadata": {},
   "outputs": [],
   "source": [
    "file = open('data.txt','x')\n",
    "file.close()"
   ]
  },
  {
   "cell_type": "code",
   "execution_count": 4,
   "id": "94631501",
   "metadata": {},
   "outputs": [
    {
     "name": "stdout",
     "output_type": "stream",
     "text": [
      "1.Hello World\n",
      "2.Hello World\n",
      "3.Hello World\n",
      "4.Hello World\n",
      "5.Hello World\n",
      "6.Hello World\n",
      "<class 'str'>\n"
     ]
    }
   ],
   "source": [
    "file = open('data.txt','r')\n",
    "x = file.read()\n",
    "print(x)\n",
    "print(type(x))\n",
    "file.close()"
   ]
  },
  {
   "cell_type": "code",
   "execution_count": 7,
   "id": "bf93804d",
   "metadata": {},
   "outputs": [
    {
     "data": {
      "text/plain": [
       "['1.Hello World',\n",
       " '2.Hello World',\n",
       " '3.Hello World',\n",
       " '4.Hello World',\n",
       " '5.Hello World',\n",
       " '6.Hello World']"
      ]
     },
     "execution_count": 7,
     "metadata": {},
     "output_type": "execute_result"
    }
   ],
   "source": [
    "y = x.split('\\n')\n",
    "y"
   ]
  },
  {
   "cell_type": "code",
   "execution_count": 8,
   "id": "3c62c4af",
   "metadata": {},
   "outputs": [
    {
     "name": "stdout",
     "output_type": "stream",
     "text": [
      "Enter line no = 1\n",
      "1.Hello World\n"
     ]
    }
   ],
   "source": [
    "n = int(input(\"Enter line no = \"))\n",
    "print(y[n-1])"
   ]
  },
  {
   "cell_type": "code",
   "execution_count": 10,
   "id": "60d26a27",
   "metadata": {},
   "outputs": [],
   "source": [
    "# write\n",
    "file = open('datas.txt','w')\n",
    "file.write('Hello World')\n",
    "file.close()"
   ]
  },
  {
   "cell_type": "code",
   "execution_count": 13,
   "id": "7e4ab284",
   "metadata": {},
   "outputs": [
    {
     "name": "stdout",
     "output_type": "stream",
     "text": [
      "Enter n = 2\n",
      "Enter name = Apple\n",
      "Enter price = 300\n",
      "Enter quantity = 2\n",
      "Enter name = Banana\n",
      "Enter price = 100\n",
      "Enter quantity = 2\n",
      "Apple 300 2.0 600.0\n",
      "Banana 100 2.0 200.0\n",
      "\n"
     ]
    }
   ],
   "source": [
    "# # WAP to create a billing system using functon\n",
    "# name price quantity total = price*quantity\n",
    "# add all total and get grand total\n",
    "bill = \"\"\n",
    "n = int(input(\"Enter n = \"))\n",
    "\n",
    "for i in range(n):\n",
    "    name = input(\"Enter name = \")\n",
    "    price = int(input(\"Enter price = \"))\n",
    "    quantity = float(input(\"Enter quantity = \"))\n",
    "    total = price * quantity\n",
    "    bill = bill + f\"{name} {price} {quantity} {total}\\n\"\n",
    "\n",
    "\n",
    "print(bill)\n",
    "\n",
    "file = open('datas.txt','w')\n",
    "file.write('Name,Price,Quantity,Total\\n')\n",
    "file.write(bill)\n",
    "file.close()"
   ]
  },
  {
   "cell_type": "code",
   "execution_count": 14,
   "id": "1710c4bf",
   "metadata": {},
   "outputs": [
    {
     "name": "stdout",
     "output_type": "stream",
     "text": [
      "Enter n = 2\n",
      "Enter name = Apple\n",
      "Enter price = 300\n",
      "Enter quantity = 2\n",
      "Enter name = Banana\n",
      "Enter price = 100\n",
      "Enter quantity = 4\n",
      "Apple,300,2.0,600.0\n",
      "Banana,100,4.0,400.0\n",
      "\n"
     ]
    }
   ],
   "source": [
    "# # WAP to create a billing system using functon\n",
    "# name price quantity total = price*quantity\n",
    "# add all total and get grand total\n",
    "#CSV file\n",
    "bill = \"\"\n",
    "n = int(input(\"Enter n = \"))\n",
    "for i in range(n):\n",
    "    name = input(\"Enter name = \")\n",
    "    price = int(input(\"Enter price = \"))\n",
    "    quantity = float(input(\"Enter quantity = \"))\n",
    "    total = price * quantity\n",
    "    bill = bill + f\"{name},{price},{quantity},{total}\\n\"\n",
    "\n",
    "print(bill)\n",
    "\n",
    "file = open('datas.csv','w')\n",
    "file.write('Name,Price,Quantity,Total\\n')\n",
    "file.write(bill)\n",
    "file.close()"
   ]
  },
  {
   "cell_type": "code",
   "execution_count": 15,
   "id": "05b2a35f",
   "metadata": {},
   "outputs": [
    {
     "data": {
      "text/plain": [
       "'C:\\\\Users\\\\Aayush\\\\new_Python_class3pm'"
      ]
     },
     "execution_count": 15,
     "metadata": {},
     "output_type": "execute_result"
    }
   ],
   "source": [
    "pwd"
   ]
  },
  {
   "cell_type": "code",
   "execution_count": 16,
   "id": "d3eb4c1d",
   "metadata": {},
   "outputs": [
    {
     "name": "stdout",
     "output_type": "stream",
     "text": [
      "Enter n = 2\n",
      "Enter name = Coke\n",
      "Enter price = 100\n",
      "Enter quantity = 3\n",
      "Enter name = Momo\n",
      "Enter price = 150\n",
      "Enter quantity = 3\n",
      "Coke,100,3.0,300.0\n",
      "Momo,150,3.0,450.0\n",
      "\n"
     ]
    }
   ],
   "source": [
    "# # WAP to create a billing system using functon\n",
    "# name price quantity total = price*quantity\n",
    "# add all total and get grand total\n",
    "#CSV file\n",
    "bill = \"\"\n",
    "n = int(input(\"Enter n = \"))\n",
    "for i in range(n):\n",
    "    name = input(\"Enter name = \")\n",
    "    price = int(input(\"Enter price = \"))\n",
    "    quantity = float(input(\"Enter quantity = \"))\n",
    "    total = price * quantity\n",
    "    bill = bill + f\"{name},{price},{quantity},{total}\\n\"\n",
    "\n",
    "print(bill)\n",
    "\n",
    "file = open('datas.csv','a')\n",
    "file.write(bill)\n",
    "file.close()"
   ]
  },
  {
   "cell_type": "code",
   "execution_count": 18,
   "id": "4bc49d57",
   "metadata": {},
   "outputs": [
    {
     "name": "stdout",
     "output_type": "stream",
     "text": [
      "Name,Price,Quantity,Total\n",
      "Apple,300,2.0,600.0\n",
      "Banana,100,4.0,400.0\n",
      "Coke,100,3.0,300.0\n",
      "Momo,150,3.0,450.0\n",
      "\n"
     ]
    }
   ],
   "source": [
    "file = open('datas.csv','r')\n",
    "x = file.read()\n",
    "print(x)\n",
    "file.close()"
   ]
  },
  {
   "cell_type": "code",
   "execution_count": 19,
   "id": "6d567b6d",
   "metadata": {},
   "outputs": [
    {
     "data": {
      "text/plain": [
       "'Name,Price,Quantity,Total\\nApple,300,2.0,600.0\\nBanana,100,4.0,400.0\\nCoke,100,3.0,300.0\\nMomo,150,3.0,450.0\\n'"
      ]
     },
     "execution_count": 19,
     "metadata": {},
     "output_type": "execute_result"
    }
   ],
   "source": [
    "x"
   ]
  },
  {
   "cell_type": "code",
   "execution_count": 21,
   "id": "5d6b30b2",
   "metadata": {},
   "outputs": [
    {
     "data": {
      "text/plain": [
       "['Name,Price,Quantity,Total',\n",
       " 'Apple,300,2.0,600.0',\n",
       " 'Banana,100,4.0,400.0',\n",
       " 'Coke,100,3.0,300.0',\n",
       " 'Momo,150,3.0,450.0',\n",
       " '']"
      ]
     },
     "execution_count": 21,
     "metadata": {},
     "output_type": "execute_result"
    }
   ],
   "source": [
    "y = x.split('\\n')\n",
    "y"
   ]
  },
  {
   "cell_type": "code",
   "execution_count": 25,
   "id": "d74a8940",
   "metadata": {},
   "outputs": [
    {
     "data": {
      "text/plain": [
       "[['Name', 'Price', 'Quantity', 'Total'],\n",
       " ['Apple', '300', '2.0', '600.0'],\n",
       " ['Banana', '100', '4.0', '400.0'],\n",
       " ['Coke', '100', '3.0', '300.0'],\n",
       " ['Momo', '150', '3.0', '450.0']]"
      ]
     },
     "execution_count": 25,
     "metadata": {},
     "output_type": "execute_result"
    }
   ],
   "source": [
    "final_data = []\n",
    "for i in y[:-1]:\n",
    "    final_data.append(i.split(','))\n",
    "    \n",
    "final_data"
   ]
  },
  {
   "cell_type": "code",
   "execution_count": null,
   "id": "2c83c18d",
   "metadata": {},
   "outputs": [],
   "source": []
  }
 ],
 "metadata": {
  "kernelspec": {
   "display_name": "Python 3 (ipykernel)",
   "language": "python",
   "name": "python3"
  },
  "language_info": {
   "codemirror_mode": {
    "name": "ipython",
    "version": 3
   },
   "file_extension": ".py",
   "mimetype": "text/x-python",
   "name": "python",
   "nbconvert_exporter": "python",
   "pygments_lexer": "ipython3",
   "version": "3.9.12"
  }
 },
 "nbformat": 4,
 "nbformat_minor": 5
}
