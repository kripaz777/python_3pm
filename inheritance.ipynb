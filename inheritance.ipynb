{
 "cells": [
  {
   "cell_type": "code",
   "execution_count": 1,
   "id": "68a122ed",
   "metadata": {},
   "outputs": [],
   "source": [
    "# class A:\n",
    "#     pass\n",
    "\n",
    "# class B(A):\n",
    "#     pass\n",
    "\n",
    "# obj = B()"
   ]
  },
  {
   "cell_type": "code",
   "execution_count": 2,
   "id": "8b2aed99",
   "metadata": {},
   "outputs": [
    {
     "name": "stdout",
     "output_type": "stream",
     "text": [
      "Enter name = Ram\n",
      "Enter age = 89\n",
      "Enter address = Kathmandu\n",
      "Hello World I am Ram. I am from Kathmandu. I am 89\n"
     ]
    }
   ],
   "source": [
    "class Info:\n",
    "    def __init__(self,name,age,add):\n",
    "        self.name = name\n",
    "        self.age = age\n",
    "        self.add = add\n",
    "        \n",
    "class Data(Info):\n",
    "    def info(self):\n",
    "        print(f\"Hello World I am {self.name}. I am from {self.add}. I am {self.age}\")\n",
    "        \n",
    "\n",
    "name = input(\"Enter name = \")\n",
    "age = int(input(\"Enter age = \"))\n",
    "add = input(\"Enter address = \")\n",
    "obj = Data(name,age,add)\n",
    "\n",
    "obj.info()"
   ]
  },
  {
   "cell_type": "code",
   "execution_count": 3,
   "id": "2bd87065",
   "metadata": {},
   "outputs": [
    {
     "name": "stdout",
     "output_type": "stream",
     "text": [
      "Enter name = Ram\n",
      "Enter age = 90\n",
      "Enter address = Kathmandu\n",
      "Hello World I am Ram. I am from Kathmandu. I am 90\n"
     ]
    }
   ],
   "source": [
    "class Info:\n",
    "    def __init__(self):\n",
    "        self.name = input(\"Enter name = \")\n",
    "        self.age = int(input(\"Enter age = \"))\n",
    "        self.add = input(\"Enter address = \")\n",
    "        \n",
    "class Data(Info):\n",
    "    def info(self):\n",
    "        print(f\"Hello World I am {self.name}. I am from {self.add}. I am {self.age}\")\n",
    "        \n",
    "\n",
    "\n",
    "obj = Data()\n",
    "\n",
    "obj.info()"
   ]
  },
  {
   "cell_type": "code",
   "execution_count": 4,
   "id": "1eee546e",
   "metadata": {},
   "outputs": [
    {
     "name": "stdout",
     "output_type": "stream",
     "text": [
      "Enter name = Ram\n",
      "Enter age = 34\n",
      "Enter address = Kathmandu\n",
      "Hello World I am Ram. I am from Kathmandu. I am 34\n"
     ]
    }
   ],
   "source": [
    "class Info:\n",
    "    def __init__(self,add):\n",
    "        self.add = add\n",
    "        \n",
    "class Data(Info):\n",
    "    def __init__(self,name,age,add):\n",
    "        self.name = name\n",
    "        self.age = age\n",
    "        Info.__init__(self,add)\n",
    "        \n",
    "    def info(self):\n",
    "        print(f\"Hello World I am {self.name}. I am from {self.add}. I am {self.age}\")\n",
    "        \n",
    "\n",
    "name = input(\"Enter name = \")\n",
    "age = int(input(\"Enter age = \"))\n",
    "add = input(\"Enter address = \")\n",
    "obj = Data(name,age,add)\n",
    "obj.info()"
   ]
  },
  {
   "cell_type": "code",
   "execution_count": 5,
   "id": "bb33cd96",
   "metadata": {},
   "outputs": [],
   "source": [
    "# mutilevel inheritance\n",
    "class A:\n",
    "    pass\n",
    "class B(A):\n",
    "    pass\n",
    "class C(B):\n",
    "    pass\n",
    "\n",
    "obj = C()"
   ]
  },
  {
   "cell_type": "code",
   "execution_count": null,
   "id": "0bbb6a46",
   "metadata": {},
   "outputs": [],
   "source": [
    "# mutiple inheritance\n",
    "class A:\n",
    "    pass\n",
    "class B:\n",
    "    pass\n",
    "class C(A,B):\n",
    "    pass\n",
    "\n",
    "obj = C()"
   ]
  },
  {
   "cell_type": "code",
   "execution_count": 1,
   "id": "d30c273f",
   "metadata": {},
   "outputs": [
    {
     "name": "stdout",
     "output_type": "stream",
     "text": [
      "Enter name = Ram\n",
      "Enter age = 78\n",
      "Enter address = Kathmandu\n",
      "Hello World I am Ram. I am from Kathmandu. I am 78\n"
     ]
    }
   ],
   "source": [
    "#Multilevel\n",
    "class Add:\n",
    "    def __init__(self,add):\n",
    "        self.add = add\n",
    "        \n",
    "class Info(Add):\n",
    "    def __init__(self,age,add):\n",
    "        self.age = age\n",
    "        Add.__init__(self,add)\n",
    "        \n",
    "class Data(Info):\n",
    "    def __init__(self,name,age,add):\n",
    "        self.name = name\n",
    "        Info.__init__(self,age,add)\n",
    "        \n",
    "    def info(self):\n",
    "        print(f\"Hello World I am {self.name}. I am from {self.add}. I am {self.age}\")\n",
    "        \n",
    "\n",
    "name = input(\"Enter name = \")\n",
    "age = int(input(\"Enter age = \"))\n",
    "add = input(\"Enter address = \")\n",
    "obj = Data(name,age,add)\n",
    "obj.info()"
   ]
  },
  {
   "cell_type": "code",
   "execution_count": 2,
   "id": "6f5b4b97",
   "metadata": {},
   "outputs": [
    {
     "name": "stdout",
     "output_type": "stream",
     "text": [
      "Enter name = Ram\n",
      "Enter Age = 89\n",
      "Enter Add = Kathmandu\n",
      "Hello World I am Ram. I am from Kathmandu. I am 89\n"
     ]
    }
   ],
   "source": [
    "#Multple\n",
    "class Add:\n",
    "    def __init__(self):\n",
    "        self.add = input(\"Enter Add = \")\n",
    "        \n",
    "class Info:\n",
    "    def __init__(self):\n",
    "        self.age = int(input(\"Enter Age = \"))\n",
    "        \n",
    "class Data(Info,Add):\n",
    "    def __init__(self):\n",
    "        self.name = input(\"Enter name = \")\n",
    "        Info.__init__(self)\n",
    "        Add.__init__(self)\n",
    "        \n",
    "    def info(self):\n",
    "        print(f\"Hello World I am {self.name}. I am from {self.add}. I am {self.age}\")\n",
    "        \n",
    "\n",
    "obj = Data()\n",
    "obj.info()"
   ]
  },
  {
   "cell_type": "code",
   "execution_count": 4,
   "id": "f84e105d",
   "metadata": {},
   "outputs": [
    {
     "name": "stdout",
     "output_type": "stream",
     "text": [
      "Enter name = Ram\n",
      "Enter age = 89\n",
      "Enter address = Kathmandu\n",
      "Hello World I am Ram. I am from Kathmandu. I am 89\n"
     ]
    }
   ],
   "source": [
    "#Multiple\n",
    "class Add:\n",
    "    def __init__(self,add):\n",
    "        self.add = add\n",
    "        \n",
    "class Age:\n",
    "    def __init__(self,age):\n",
    "        self.age = age\n",
    "        \n",
    "class Data(Add,Age):\n",
    "    def __init__(self,name,age,add):\n",
    "        self.name = name\n",
    "        Age.__init__(self,age)\n",
    "        Add.__init__(self,add)\n",
    "        \n",
    "    def info(self):\n",
    "        print(f\"Hello World I am {self.name}. I am from {self.add}. I am {self.age}\")\n",
    "        \n",
    "\n",
    "name = input(\"Enter name = \")\n",
    "age = int(input(\"Enter age = \"))\n",
    "add = input(\"Enter address = \")\n",
    "obj = Data(name,age,add)\n",
    "obj.info()"
   ]
  },
  {
   "cell_type": "code",
   "execution_count": 7,
   "id": "84233953",
   "metadata": {},
   "outputs": [
    {
     "name": "stdout",
     "output_type": "stream",
     "text": [
      "Sabin 89 Kathmandu\n",
      "Hello World I am Sabin. I am from Kathmandu. I am 89\n"
     ]
    }
   ],
   "source": [
    "# Encaptulation\n",
    "#public members\n",
    "class Info:\n",
    "    def __init__(self):\n",
    "        self.name = \"Sabin\"\n",
    "        self.age = 89\n",
    "        self.add = \"Kathmandu\"\n",
    "        \n",
    "class Data(Info):\n",
    "    def info(self):\n",
    "        print(f\"Hello World I am {self.name}. I am from {self.add}. I am {self.age}\")\n",
    "        \n",
    "\n",
    "\n",
    "obj = Data()\n",
    "print(obj.name,obj.age,obj.add)\n",
    "obj.info()"
   ]
  },
  {
   "cell_type": "code",
   "execution_count": 8,
   "id": "fd12392c",
   "metadata": {},
   "outputs": [
    {
     "name": "stdout",
     "output_type": "stream",
     "text": [
      "Hello World I am Sabin. I am from Kathmandu. I am 89\n"
     ]
    }
   ],
   "source": [
    "# Encaptulation\n",
    "#protected members\n",
    "class Info:\n",
    "    def __init__(self):\n",
    "        self._name = \"Sabin\"          #protected members\n",
    "        self._age = 89                #protected members\n",
    "        self._add = \"Kathmandu\"       #protected members\n",
    "\n",
    "        \n",
    "class Data(Info):\n",
    "    def info(self):\n",
    "        print(f\"Hello World I am {self._name}. I am from {self._add}. I am {self._age}\")\n",
    "        \n",
    "\n",
    "\n",
    "obj = Data()\n",
    "# print(obj.name,obj.age,obj.add)\n",
    "obj.info()"
   ]
  },
  {
   "cell_type": "code",
   "execution_count": 11,
   "id": "72f56f9d",
   "metadata": {},
   "outputs": [
    {
     "name": "stdout",
     "output_type": "stream",
     "text": [
      "Hello World I am Sabin.I am 89\n",
      "Hello World I am Sabin.I am 89. I am from Kathmandu\n"
     ]
    }
   ],
   "source": [
    "#private members\n",
    "class Info:\n",
    "    def __init__(self):\n",
    "        self.name = \"Sabin\"          #public members\n",
    "        self._age = 89                #protected members\n",
    "        self.__add = \"Kathmandu\"       #private members\n",
    "    def my_infos(self):\n",
    "        print(f\"Hello World I am {self.name}.I am {self._age}. I am from {self.__add}\")\n",
    "        \n",
    "class Data(Info):\n",
    "    def info(self):\n",
    "        print(f\"Hello World I am {self.name}.I am {self._age}\")\n",
    "        \n",
    "\n",
    "\n",
    "obj = Data()\n",
    "# print(obj.name,obj.age,obj.add)\n",
    "obj.info()\n",
    "obj.my_infos()"
   ]
  },
  {
   "cell_type": "code",
   "execution_count": 14,
   "id": "d19976dc",
   "metadata": {},
   "outputs": [
    {
     "name": "stdout",
     "output_type": "stream",
     "text": [
      "Hello World I am Sabin.I am 89. I am from Kathmandu\n",
      "Kathmandu\n"
     ]
    }
   ],
   "source": [
    "#private members\n",
    "class Info:\n",
    "    def __init__(self):\n",
    "        self.name = \"Sabin\"          #public members\n",
    "        self._age = 89                #protected members\n",
    "        self.__add = \"Kathmandu\"       #private members\n",
    "    def my_add(self):\n",
    "        return self.__add\n",
    "        \n",
    "class Data(Info):\n",
    "    def info(self):\n",
    "        print(f\"Hello World I am {self.name}.I am {self._age}. I am from {Info.my_add(self)}\")\n",
    "        print(Info.my_add(self))\n",
    "\n",
    "\n",
    "obj = Data()\n",
    "# print(obj.name,obj.age,obj.add)\n",
    "obj.info()"
   ]
  },
  {
   "cell_type": "code",
   "execution_count": null,
   "id": "d87d5636",
   "metadata": {},
   "outputs": [],
   "source": []
  }
 ],
 "metadata": {
  "kernelspec": {
   "display_name": "Python 3 (ipykernel)",
   "language": "python",
   "name": "python3"
  },
  "language_info": {
   "codemirror_mode": {
    "name": "ipython",
    "version": 3
   },
   "file_extension": ".py",
   "mimetype": "text/x-python",
   "name": "python",
   "nbconvert_exporter": "python",
   "pygments_lexer": "ipython3",
   "version": "3.9.12"
  }
 },
 "nbformat": 4,
 "nbformat_minor": 5
}
