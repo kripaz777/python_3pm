{
 "cells": [
  {
   "cell_type": "code",
   "execution_count": 2,
   "id": "81713ba3",
   "metadata": {},
   "outputs": [],
   "source": [
    "# # Python collection\n",
    "# list\n",
    "# tuple\n",
    "# dictionary\n",
    "# set"
   ]
  },
  {
   "cell_type": "code",
   "execution_count": 3,
   "id": "47228728",
   "metadata": {},
   "outputs": [],
   "source": [
    "# # List\n",
    "# -Indexing\n",
    "# -Multiple and duplicate\n",
    "# -Ordered\n",
    "# -Mutable"
   ]
  },
  {
   "cell_type": "code",
   "execution_count": 5,
   "id": "a318b258",
   "metadata": {},
   "outputs": [
    {
     "name": "stdout",
     "output_type": "stream",
     "text": [
      "<class 'list'>\n",
      "<class 'list'>\n",
      "[1, 2, 3, 4, 5, 6, 7, 8, 9]\n",
      "['Apple', 'Ball', 'Cat', 'Fish', 'Egg']\n"
     ]
    }
   ],
   "source": [
    "a = [1,2,3,4,5,6,7,8,9]\n",
    "b = [\"Apple\",\"Ball\",\"Cat\",\"Fish\",\"Egg\"]\n",
    "print(type(a))\n",
    "print(type(b))\n",
    "print(a)\n",
    "print(b)"
   ]
  },
  {
   "cell_type": "code",
   "execution_count": 9,
   "id": "16a6d4f9",
   "metadata": {},
   "outputs": [
    {
     "name": "stdout",
     "output_type": "stream",
     "text": [
      "Apple\n",
      "['Apple', 'Ball', 'Cat', 'Fish']\n",
      "['Apple', 'Cat', 'Egg']\n"
     ]
    }
   ],
   "source": [
    "l = [\"Apple\",\"Ball\",\"Cat\",\"Fish\",\"Egg\",\"Apple\"]\n",
    "print(l[0])\n",
    "print(l[0:4])\n",
    "print(l[0:5:2])\n"
   ]
  },
  {
   "cell_type": "code",
   "execution_count": 10,
   "id": "93e47d07",
   "metadata": {},
   "outputs": [
    {
     "name": "stdout",
     "output_type": "stream",
     "text": [
      "['Apple', 'Ball', 'Cat', 'Fish', 'Egg', 'Apple']\n"
     ]
    }
   ],
   "source": [
    "l = [\"Apple\",\"Ball\",\"Cat\",\"Fish\",\"Egg\",\"Apple\"]\n",
    "print(l)"
   ]
  },
  {
   "cell_type": "code",
   "execution_count": 11,
   "id": "24cde963",
   "metadata": {},
   "outputs": [],
   "source": [
    "# Operators\n",
    "# * +"
   ]
  },
  {
   "cell_type": "code",
   "execution_count": null,
   "id": "d6c5d86b",
   "metadata": {},
   "outputs": [],
   "source": []
  },
  {
   "cell_type": "code",
   "execution_count": 12,
   "id": "42ce1163",
   "metadata": {},
   "outputs": [
    {
     "name": "stdout",
     "output_type": "stream",
     "text": [
      "[1, 2, 3, 4, 5, 6, 7, 8, 9, 10]\n"
     ]
    }
   ],
   "source": [
    "a = [1,2,3,4,5]\n",
    "b = [6,7,8,9,10]\n",
    "c = a+b\n",
    "print(c)"
   ]
  },
  {
   "cell_type": "code",
   "execution_count": 14,
   "id": "f1456102",
   "metadata": {},
   "outputs": [
    {
     "name": "stdout",
     "output_type": "stream",
     "text": [
      "[1, 2, 3, 4, 5, 1, 2, 3, 4, 5]\n"
     ]
    }
   ],
   "source": [
    "a = [1,2,3,4,5]\n",
    "print(a*2)"
   ]
  },
  {
   "cell_type": "code",
   "execution_count": null,
   "id": "4a1d7939",
   "metadata": {},
   "outputs": [],
   "source": [
    "# append() insert() extend()"
   ]
  },
  {
   "cell_type": "code",
   "execution_count": 1,
   "id": "0d8b506f",
   "metadata": {},
   "outputs": [
    {
     "name": "stdout",
     "output_type": "stream",
     "text": [
      "Enter n = 5\n",
      "Enter x = 243\n",
      "Enter x = 456\n",
      "Enter x = 34\n",
      "Enter x = 567\n",
      "Enter x = 345\n",
      "[243, 456, 34, 567, 345]\n"
     ]
    }
   ],
   "source": [
    "l = []\n",
    "n = int(input(\"Enter n = \"))\n",
    "for i in range(n):\n",
    "    x = int(input(\"Enter x = \"))\n",
    "    l.append(x)\n",
    "    \n",
    "print(l)"
   ]
  },
  {
   "cell_type": "code",
   "execution_count": 2,
   "id": "74cb7cbd",
   "metadata": {},
   "outputs": [
    {
     "data": {
      "text/plain": [
       "[243, 456, 34, 567, 345, 400]"
      ]
     },
     "execution_count": 2,
     "metadata": {},
     "output_type": "execute_result"
    }
   ],
   "source": [
    "l = [243, 456, 34, 567, 345]\n",
    "l.append(400)\n",
    "l"
   ]
  },
  {
   "cell_type": "code",
   "execution_count": 3,
   "id": "02294a3b",
   "metadata": {},
   "outputs": [
    {
     "data": {
      "text/plain": [
       "[243, 100, 456, 34, 567, 345]"
      ]
     },
     "execution_count": 3,
     "metadata": {},
     "output_type": "execute_result"
    }
   ],
   "source": [
    "l = [243, 456, 34, 567, 345]\n",
    "l.insert(1,100)\n",
    "l"
   ]
  },
  {
   "cell_type": "code",
   "execution_count": 4,
   "id": "a285e7a1",
   "metadata": {},
   "outputs": [
    {
     "data": {
      "text/plain": [
       "[243, 456, 34, 567, 345, 1, 2, 3, 4]"
      ]
     },
     "execution_count": 4,
     "metadata": {},
     "output_type": "execute_result"
    }
   ],
   "source": [
    "l = [243, 456, 34, 567, 345]\n",
    "a = [1,2,3,4]\n",
    "l.extend(a)\n",
    "l"
   ]
  },
  {
   "cell_type": "code",
   "execution_count": 5,
   "id": "30bee472",
   "metadata": {},
   "outputs": [
    {
     "name": "stdout",
     "output_type": "stream",
     "text": [
      "Max value =  567\n",
      "Min value =  1\n",
      "Total Sum =  1655\n",
      "[1, 2, 3, 4, 34, 243, 345, 456, 567]\n",
      "[567, 456, 345, 243, 34, 4, 3, 2, 1]\n"
     ]
    }
   ],
   "source": [
    "#max() min() sum() sort() reverse()\n",
    "l = [243, 456, 34, 567, 345, 1, 2, 3, 4]\n",
    "print(\"Max value = \",max(l))\n",
    "print(\"Min value = \",min(l))\n",
    "print(\"Total Sum = \",sum(l))\n",
    "l.sort()\n",
    "print(l)\n",
    "l.reverse()\n",
    "print(l)"
   ]
  },
  {
   "cell_type": "code",
   "execution_count": 11,
   "id": "c3afbeab",
   "metadata": {},
   "outputs": [
    {
     "name": "stdout",
     "output_type": "stream",
     "text": [
      "['Apple', 'Ball', 'Cat', 'Egg', 'Zebra', 'ant']\n"
     ]
    }
   ],
   "source": [
    "a = [\"Ball\",\"Cat\",\"Apple\",\"Zebra\",\"ant\",\"Egg\"]\n",
    "a.sort()\n",
    "print(a)"
   ]
  },
  {
   "cell_type": "code",
   "execution_count": 12,
   "id": "9485f962",
   "metadata": {},
   "outputs": [
    {
     "name": "stdout",
     "output_type": "stream",
     "text": [
      "Apple\n",
      "Ball\n",
      "Cat\n",
      "Egg\n",
      "Zebra\n",
      "ant\n"
     ]
    }
   ],
   "source": [
    "# Read\n",
    "l = ['Apple', 'Ball', 'Cat', 'Egg', 'Zebra', 'ant']\n",
    "for i in l:\n",
    "    print(i)"
   ]
  },
  {
   "cell_type": "code",
   "execution_count": 14,
   "id": "72313e6e",
   "metadata": {},
   "outputs": [
    {
     "name": "stdout",
     "output_type": "stream",
     "text": [
      "Yes there is \n",
      "1\n"
     ]
    }
   ],
   "source": [
    "l = ['Apple', 'Ball', 'Cat', 'Egg', 'Zebra', 'ant']\n",
    "if \"Apple\" in l:\n",
    "    print(\"Yes there is \")\n",
    "    print(l.count(\"Apple\"))\n",
    "else:\n",
    "    print(\"No there is not.\")"
   ]
  },
  {
   "cell_type": "code",
   "execution_count": 15,
   "id": "7f5e3233",
   "metadata": {},
   "outputs": [],
   "source": [
    "# WAP to search any values in a list having no case sensitivity"
   ]
  },
  {
   "cell_type": "code",
   "execution_count": 16,
   "id": "9f9adbcd",
   "metadata": {},
   "outputs": [],
   "source": [
    "# delete values\n",
    "# del pop() remove()"
   ]
  },
  {
   "cell_type": "code",
   "execution_count": 17,
   "id": "4f4a89db",
   "metadata": {},
   "outputs": [
    {
     "name": "stdout",
     "output_type": "stream",
     "text": [
      "['Ball', 'Cat', 'Egg', 'Zebra', 'ant']\n"
     ]
    }
   ],
   "source": [
    "l = ['Apple', 'Ball', 'Cat', 'Egg', 'Zebra', 'ant']\n",
    "del l[0]\n",
    "print(l)"
   ]
  },
  {
   "cell_type": "code",
   "execution_count": 19,
   "id": "7084852e",
   "metadata": {},
   "outputs": [
    {
     "name": "stdout",
     "output_type": "stream",
     "text": [
      "['Egg', 'Zebra', 'ant']\n"
     ]
    }
   ],
   "source": [
    "l = ['Apple', 'Ball', 'Cat', 'Egg', 'Zebra', 'ant']\n",
    "del l[0:3]\n",
    "print(l)"
   ]
  },
  {
   "cell_type": "code",
   "execution_count": 21,
   "id": "0a29138f",
   "metadata": {},
   "outputs": [
    {
     "name": "stdout",
     "output_type": "stream",
     "text": [
      "['Apple', 'Cat', 'Egg', 'Zebra', 'ant']\n",
      "Ball\n"
     ]
    }
   ],
   "source": [
    "l = ['Apple', 'Ball', 'Cat', 'Egg', 'Zebra', 'ant']\n",
    "a = l.pop(1)\n",
    "print(l)\n",
    "print(a)"
   ]
  },
  {
   "cell_type": "code",
   "execution_count": 23,
   "id": "63f58e4b",
   "metadata": {},
   "outputs": [
    {
     "data": {
      "text/plain": [
       "['Apple', 'Cat', 'Egg', 'Zebra', 'ant', 'Ball']"
      ]
     },
     "execution_count": 23,
     "metadata": {},
     "output_type": "execute_result"
    }
   ],
   "source": [
    "l = ['Apple', 'Ball', 'Cat', 'Egg', 'Zebra', 'ant',\"Ball\"]\n",
    "l.remove('Ball')\n",
    "l"
   ]
  },
  {
   "cell_type": "code",
   "execution_count": null,
   "id": "d2d9c2cb",
   "metadata": {},
   "outputs": [],
   "source": [
    "# WAP to remove multiple duplicate value from list"
   ]
  },
  {
   "cell_type": "code",
   "execution_count": 25,
   "id": "0121bb56",
   "metadata": {},
   "outputs": [
    {
     "data": {
      "text/plain": [
       "['APPLE', 'Ball', 'Cat', 'Egg', 'Zebra', 'ant', 'Ball']"
      ]
     },
     "execution_count": 25,
     "metadata": {},
     "output_type": "execute_result"
    }
   ],
   "source": [
    "# Update\n",
    "l = ['Apple', 'Ball', 'Cat', 'Egg', 'Zebra', 'ant',\"Ball\"]\n",
    "l[0] = \"APPLE\"\n",
    "l"
   ]
  },
  {
   "cell_type": "code",
   "execution_count": 29,
   "id": "7aec1d58",
   "metadata": {},
   "outputs": [
    {
     "data": {
      "text/plain": [
       "['APPLE', 'BALl', 'Cat', 'Egg', 'Zebra', 'ant', 'Ball']"
      ]
     },
     "execution_count": 29,
     "metadata": {},
     "output_type": "execute_result"
    }
   ],
   "source": [
    "l = ['Apple', 'Ball', 'Cat', 'Egg', 'Zebra', 'ant',\"Ball\"]\n",
    "l[0:2] = [\"APPLE\",\"BALl\"]\n",
    "l"
   ]
  },
  {
   "cell_type": "code",
   "execution_count": 11,
   "id": "f133a6b0",
   "metadata": {},
   "outputs": [
    {
     "name": "stdout",
     "output_type": "stream",
     "text": [
      "Enter value = apple\n",
      "Yes 2\n"
     ]
    }
   ],
   "source": [
    "# WAP to search any values in a list having no case sensitivity\n",
    "c = 0\n",
    "l = ['Apple', 'Ball', 'Cat', 'Egg', 'Zebra', 'ant',\"Ball\",\"Apple\"]\n",
    "value = input(\"Enter value = \")\n",
    "for i in l:\n",
    "    if i.lower() == value.lower():\n",
    "        c = c+1\n",
    "print(\"Yes\",c)"
   ]
  },
  {
   "cell_type": "code",
   "execution_count": 13,
   "id": "94991602",
   "metadata": {},
   "outputs": [
    {
     "data": {
      "text/plain": [
       "['Ball', 'Cat', 'Egg', 'Zebra', 'ant', 'Ball', 'Apple']"
      ]
     },
     "execution_count": 13,
     "metadata": {},
     "output_type": "execute_result"
    }
   ],
   "source": [
    "# WAP to remove multiple duplicate value from list\n",
    "l = ['Apple', 'Ball', 'Cat', 'Egg', 'Zebra', 'ant',\"Ball\",\"Apple\"]\n",
    "c = l.count(\"Apple\")\n",
    "for i in range(c):\n",
    "    l.remove(\"Apple\")\n",
    "l"
   ]
  },
  {
   "cell_type": "code",
   "execution_count": 16,
   "id": "e7ac25dd",
   "metadata": {},
   "outputs": [
    {
     "name": "stdout",
     "output_type": "stream",
     "text": [
      "<class 'list'>\n"
     ]
    }
   ],
   "source": [
    "# list inside list\n",
    "l = [[1,2,3],\n",
    "     [4,5,6],\n",
    "     [7,8,9]]\n",
    "print(type(l))"
   ]
  },
  {
   "cell_type": "code",
   "execution_count": 24,
   "id": "3f3b196f",
   "metadata": {},
   "outputs": [
    {
     "name": "stdout",
     "output_type": "stream",
     "text": [
      "[7, 8, 9]\n",
      "5\n"
     ]
    }
   ],
   "source": [
    "print(l[2])\n",
    "print(l[1][1])"
   ]
  },
  {
   "cell_type": "code",
   "execution_count": 25,
   "id": "2f22fb7f",
   "metadata": {},
   "outputs": [
    {
     "data": {
      "text/plain": [
       "[['Ram', 34, 'Kathmandu'],\n",
       " ['Shyam', 78, 'Bhaktapur'],\n",
       " ['Hari', 45, 'Lalitpur']]"
      ]
     },
     "execution_count": 25,
     "metadata": {},
     "output_type": "execute_result"
    }
   ],
   "source": [
    "info = [[\"Ram\",34,\"Kathmandu\"],\n",
    "       [\"Shyam\",78,\"Bhaktapur\"],\n",
    "       [\"Hari\",45,\"Lalitpur\"]]\n",
    "info"
   ]
  },
  {
   "cell_type": "code",
   "execution_count": 26,
   "id": "b53ac251",
   "metadata": {},
   "outputs": [
    {
     "data": {
      "text/plain": [
       "['Ram', 34, 'Kathmandu']"
      ]
     },
     "execution_count": 26,
     "metadata": {},
     "output_type": "execute_result"
    }
   ],
   "source": [
    "info[0]"
   ]
  },
  {
   "cell_type": "code",
   "execution_count": 27,
   "id": "1e9a4263",
   "metadata": {},
   "outputs": [
    {
     "name": "stdout",
     "output_type": "stream",
     "text": [
      "Enter n = 2\n",
      "Enter name = Ram\n",
      "Enter age = 78\n",
      "Enter add = Kathmandu\n",
      "Enter name = Shyam\n",
      "Enter age = 89\n",
      "Enter add = lalitpur\n"
     ]
    },
    {
     "data": {
      "text/plain": [
       "[['Ram', 78, 'Kathmandu'], ['Shyam', 89, 'lalitpur']]"
      ]
     },
     "execution_count": 27,
     "metadata": {},
     "output_type": "execute_result"
    }
   ],
   "source": [
    "info = []\n",
    "n = int(input(\"Enter n = \"))\n",
    "for i in range(n):\n",
    "    name = input(\"Enter name = \")\n",
    "    age = int(input(\"Enter age = \"))\n",
    "    add = input(\"Enter add = \")\n",
    "    info.append([name,age,add])\n",
    "info"
   ]
  },
  {
   "cell_type": "code",
   "execution_count": 29,
   "id": "79bb6833",
   "metadata": {},
   "outputs": [
    {
     "data": {
      "text/plain": [
       "[['Ram', 78, 'Kathmandu'],\n",
       " ['Shyam', 89, 'lalitpur'],\n",
       " ['Nabin', 34, 'Lalitpur']]"
      ]
     },
     "execution_count": 29,
     "metadata": {},
     "output_type": "execute_result"
    }
   ],
   "source": [
    "info.append(['Nabin',34,\"Lalitpur\"])\n",
    "info"
   ]
  },
  {
   "cell_type": "code",
   "execution_count": 32,
   "id": "87a76098",
   "metadata": {},
   "outputs": [
    {
     "data": {
      "text/plain": [
       "[['Rama', 78, 'Kathmandu'],\n",
       " ['Shyam', 89, 'lalitpur'],\n",
       " ['Nabin', 34, 'Lalitpur']]"
      ]
     },
     "execution_count": 32,
     "metadata": {},
     "output_type": "execute_result"
    }
   ],
   "source": [
    "#Update\n",
    "a = [['Ram', 78, 'Kathmandu'],\n",
    "     ['Shyam', 89, 'lalitpur'],\n",
    "     ['Nabin', 34, 'Lalitpur']]\n",
    "a[0][0] = \"Rama\"\n",
    "a"
   ]
  },
  {
   "cell_type": "code",
   "execution_count": 33,
   "id": "8e1e3941",
   "metadata": {},
   "outputs": [
    {
     "data": {
      "text/plain": [
       "[['Shyam', 89, 'lalitpur'], ['Nabin', 34, 'Lalitpur']]"
      ]
     },
     "execution_count": 33,
     "metadata": {},
     "output_type": "execute_result"
    }
   ],
   "source": [
    "#del\n",
    "a = [['Ram', 78, 'Kathmandu'],\n",
    "     ['Shyam', 89, 'lalitpur'],\n",
    "     ['Nabin', 34, 'Lalitpur']]\n",
    "del a[0]\n",
    "a"
   ]
  },
  {
   "cell_type": "code",
   "execution_count": 37,
   "id": "dd537a33",
   "metadata": {},
   "outputs": [
    {
     "name": "stdout",
     "output_type": "stream",
     "text": [
      "Enter name = Shyam\n",
      "['Shyam', 89, 'lalitpur']\n"
     ]
    }
   ],
   "source": [
    "a = [['Ram', 78, 'Kathmandu'],\n",
    "     ['Shyam', 89, 'lalitpur'],\n",
    "     ['Nabin', 34, 'Lalitpur']]\n",
    "name = input(\"Enter name = \")\n",
    "for i in a:\n",
    "    if name in i:\n",
    "        print(i)"
   ]
  },
  {
   "cell_type": "code",
   "execution_count": 38,
   "id": "bf8609d0",
   "metadata": {},
   "outputs": [
    {
     "name": "stdout",
     "output_type": "stream",
     "text": [
      "Enter name = ram\n",
      "['Ram', 78, 'Kathmandu']\n"
     ]
    }
   ],
   "source": [
    "a = [['Ram', 78, 'Kathmandu'],\n",
    "     ['Shyam', 89, 'lalitpur'],\n",
    "     ['Nabin', 34, 'Lalitpur']]\n",
    "name = input(\"Enter name = \")\n",
    "for i in a:\n",
    "    if i[0].lower() == name.lower():\n",
    "        print(i)"
   ]
  },
  {
   "cell_type": "code",
   "execution_count": null,
   "id": "b5e20d9a",
   "metadata": {},
   "outputs": [],
   "source": []
  }
 ],
 "metadata": {
  "kernelspec": {
   "display_name": "Python 3 (ipykernel)",
   "language": "python",
   "name": "python3"
  },
  "language_info": {
   "codemirror_mode": {
    "name": "ipython",
    "version": 3
   },
   "file_extension": ".py",
   "mimetype": "text/x-python",
   "name": "python",
   "nbconvert_exporter": "python",
   "pygments_lexer": "ipython3",
   "version": "3.9.12"
  }
 },
 "nbformat": 4,
 "nbformat_minor": 5
}
