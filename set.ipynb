{
 "cells": [
  {
   "cell_type": "code",
   "execution_count": 1,
   "id": "bdbc3b2f",
   "metadata": {},
   "outputs": [],
   "source": [
    "# Set\n",
    "# -No indexing\n",
    "# -Multiple but no duplicate data\n",
    "# -Unordered\n",
    "# -Mutable"
   ]
  },
  {
   "cell_type": "code",
   "execution_count": 2,
   "id": "37515429",
   "metadata": {},
   "outputs": [
    {
     "name": "stdout",
     "output_type": "stream",
     "text": [
      "<class 'set'>\n",
      "<class 'set'>\n"
     ]
    }
   ],
   "source": [
    "# s = set()\n",
    "s = {1,2,3,4,5,6,7,8,9,0}\n",
    "a = {\"Apple\",\"Ball\",\"Cat\",\"Dog\",\"Fish\"}\n",
    "print(type(s))\n",
    "print(type(a))"
   ]
  },
  {
   "cell_type": "code",
   "execution_count": 3,
   "id": "962edfa9",
   "metadata": {},
   "outputs": [
    {
     "name": "stdout",
     "output_type": "stream",
     "text": [
      "{0, 1, 2, 3, 4, 5, 6, 7, 8, 9}\n",
      "{'Ball', 'Dog', 'Apple', 'Cat', 'Fish'}\n"
     ]
    }
   ],
   "source": [
    "print(s)\n",
    "print(a)"
   ]
  },
  {
   "cell_type": "code",
   "execution_count": 4,
   "id": "0b20581e",
   "metadata": {},
   "outputs": [
    {
     "ename": "TypeError",
     "evalue": "'set' object is not subscriptable",
     "output_type": "error",
     "traceback": [
      "\u001b[1;31m---------------------------------------------------------------------------\u001b[0m",
      "\u001b[1;31mTypeError\u001b[0m                                 Traceback (most recent call last)",
      "Input \u001b[1;32mIn [4]\u001b[0m, in \u001b[0;36m<cell line: 1>\u001b[1;34m()\u001b[0m\n\u001b[1;32m----> 1\u001b[0m \u001b[38;5;28mprint\u001b[39m(\u001b[43ms\u001b[49m\u001b[43m[\u001b[49m\u001b[38;5;241;43m0\u001b[39;49m\u001b[43m]\u001b[49m)\n",
      "\u001b[1;31mTypeError\u001b[0m: 'set' object is not subscriptable"
     ]
    }
   ],
   "source": [
    "print(s[0])"
   ]
  },
  {
   "cell_type": "code",
   "execution_count": 5,
   "id": "09b86c15",
   "metadata": {},
   "outputs": [
    {
     "name": "stdout",
     "output_type": "stream",
     "text": [
      "{0, 1, 2, 3, 4, 5, 6, 7, 8, 9}\n"
     ]
    }
   ],
   "source": [
    "s = {1,2,3,4,5,6,7,8,9,0,0,1,3,2,5,3,6,7,2,3,6,7}\n",
    "print(s)"
   ]
  },
  {
   "cell_type": "code",
   "execution_count": 7,
   "id": "e8a23c2d",
   "metadata": {},
   "outputs": [
    {
     "name": "stdout",
     "output_type": "stream",
     "text": [
      "{'Ball', 'Dog', 'Apple', 'Cat', 'Fish'}\n"
     ]
    },
    {
     "data": {
      "text/plain": [
       "{'Apple', 'Ball', 'Cat', 'Dog', 'Fish'}"
      ]
     },
     "execution_count": 7,
     "metadata": {},
     "output_type": "execute_result"
    }
   ],
   "source": [
    "a = {\"Apple\",\"Ball\",\"Cat\",\"Dog\",\"Fish\",\"Apple\",\"Ball\",\"Cat\"}\n",
    "print(a)\n",
    "a"
   ]
  },
  {
   "cell_type": "code",
   "execution_count": 8,
   "id": "14fc55bb",
   "metadata": {},
   "outputs": [
    {
     "name": "stdout",
     "output_type": "stream",
     "text": [
      "Ball\n",
      "Dog\n",
      "Apple\n",
      "Cat\n",
      "Fish\n"
     ]
    }
   ],
   "source": [
    "a = {'Apple', 'Ball', 'Cat', 'Dog', 'Fish'}\n",
    "for i in a:\n",
    "    print(i)  "
   ]
  },
  {
   "cell_type": "code",
   "execution_count": null,
   "id": "3288fe46",
   "metadata": {},
   "outputs": [],
   "source": [
    "# Operators\n",
    "# No + *"
   ]
  },
  {
   "cell_type": "code",
   "execution_count": 9,
   "id": "fdfcd40e",
   "metadata": {},
   "outputs": [
    {
     "ename": "TypeError",
     "evalue": "unsupported operand type(s) for +: 'set' and 'set'",
     "output_type": "error",
     "traceback": [
      "\u001b[1;31m---------------------------------------------------------------------------\u001b[0m",
      "\u001b[1;31mTypeError\u001b[0m                                 Traceback (most recent call last)",
      "Input \u001b[1;32mIn [9]\u001b[0m, in \u001b[0;36m<cell line: 3>\u001b[1;34m()\u001b[0m\n\u001b[0;32m      1\u001b[0m a \u001b[38;5;241m=\u001b[39m {\u001b[38;5;124m'\u001b[39m\u001b[38;5;124mApple\u001b[39m\u001b[38;5;124m'\u001b[39m, \u001b[38;5;124m'\u001b[39m\u001b[38;5;124mBall\u001b[39m\u001b[38;5;124m'\u001b[39m, \u001b[38;5;124m'\u001b[39m\u001b[38;5;124mCat\u001b[39m\u001b[38;5;124m'\u001b[39m, \u001b[38;5;124m'\u001b[39m\u001b[38;5;124mDog\u001b[39m\u001b[38;5;124m'\u001b[39m, \u001b[38;5;124m'\u001b[39m\u001b[38;5;124mFish\u001b[39m\u001b[38;5;124m'\u001b[39m}\n\u001b[0;32m      2\u001b[0m b \u001b[38;5;241m=\u001b[39m {\u001b[38;5;241m1\u001b[39m,\u001b[38;5;241m2\u001b[39m,\u001b[38;5;241m3\u001b[39m,\u001b[38;5;241m4\u001b[39m,\u001b[38;5;241m5\u001b[39m,\u001b[38;5;241m6\u001b[39m,\u001b[38;5;241m7\u001b[39m,\u001b[38;5;241m8\u001b[39m,\u001b[38;5;241m9\u001b[39m,\u001b[38;5;241m0\u001b[39m}\n\u001b[1;32m----> 3\u001b[0m c \u001b[38;5;241m=\u001b[39m \u001b[43ma\u001b[49m\u001b[38;5;241;43m+\u001b[39;49m\u001b[43mb\u001b[49m\n\u001b[0;32m      4\u001b[0m \u001b[38;5;28mprint\u001b[39m(c)\n",
      "\u001b[1;31mTypeError\u001b[0m: unsupported operand type(s) for +: 'set' and 'set'"
     ]
    }
   ],
   "source": [
    "a = {'Apple', 'Ball', 'Cat', 'Dog', 'Fish'}\n",
    "b = {1,2,3,4,5,6,7,8,9,0}\n",
    "c = a+b\n",
    "print(c)"
   ]
  },
  {
   "cell_type": "code",
   "execution_count": 10,
   "id": "33bf5a50",
   "metadata": {},
   "outputs": [
    {
     "ename": "TypeError",
     "evalue": "unsupported operand type(s) for *: 'set' and 'int'",
     "output_type": "error",
     "traceback": [
      "\u001b[1;31m---------------------------------------------------------------------------\u001b[0m",
      "\u001b[1;31mTypeError\u001b[0m                                 Traceback (most recent call last)",
      "Input \u001b[1;32mIn [10]\u001b[0m, in \u001b[0;36m<cell line: 2>\u001b[1;34m()\u001b[0m\n\u001b[0;32m      1\u001b[0m a \u001b[38;5;241m=\u001b[39m {\u001b[38;5;124m'\u001b[39m\u001b[38;5;124mApple\u001b[39m\u001b[38;5;124m'\u001b[39m, \u001b[38;5;124m'\u001b[39m\u001b[38;5;124mBall\u001b[39m\u001b[38;5;124m'\u001b[39m, \u001b[38;5;124m'\u001b[39m\u001b[38;5;124mCat\u001b[39m\u001b[38;5;124m'\u001b[39m, \u001b[38;5;124m'\u001b[39m\u001b[38;5;124mDog\u001b[39m\u001b[38;5;124m'\u001b[39m, \u001b[38;5;124m'\u001b[39m\u001b[38;5;124mFish\u001b[39m\u001b[38;5;124m'\u001b[39m}\n\u001b[1;32m----> 2\u001b[0m \u001b[38;5;28mprint\u001b[39m(\u001b[43ma\u001b[49m\u001b[38;5;241;43m*\u001b[39;49m\u001b[38;5;241;43m2\u001b[39;49m)\n",
      "\u001b[1;31mTypeError\u001b[0m: unsupported operand type(s) for *: 'set' and 'int'"
     ]
    }
   ],
   "source": [
    "a = {'Apple', 'Ball', 'Cat', 'Dog', 'Fish'}\n",
    "print(a*2)"
   ]
  },
  {
   "cell_type": "code",
   "execution_count": 12,
   "id": "728d2351",
   "metadata": {},
   "outputs": [
    {
     "data": {
      "text/plain": [
       "{'Apple', 'Ball'}"
      ]
     },
     "execution_count": 12,
     "metadata": {},
     "output_type": "execute_result"
    }
   ],
   "source": [
    "# add()\n",
    "a = set()\n",
    "a.add(\"Apple\")\n",
    "a.add('Ball')\n",
    "a"
   ]
  },
  {
   "cell_type": "code",
   "execution_count": 13,
   "id": "aa451914",
   "metadata": {},
   "outputs": [
    {
     "name": "stdout",
     "output_type": "stream",
     "text": [
      "{0, 1, 2, 3, 4, 5, 6, 7, 8, 9, 'Cat', 'Ball', 'Dog', 'Apple', 'Fish'}\n"
     ]
    }
   ],
   "source": [
    "a = {'Apple', 'Ball', 'Cat', 'Dog', 'Fish'}\n",
    "b = {1,2,3,4,5,6,7,8,9,0}\n",
    "a.update(b)\n",
    "print(a)"
   ]
  },
  {
   "cell_type": "code",
   "execution_count": 14,
   "id": "680dbd8a",
   "metadata": {},
   "outputs": [
    {
     "data": {
      "text/plain": [
       "{'Ball', 'Cat', 'Dog', 'Fish'}"
      ]
     },
     "execution_count": 14,
     "metadata": {},
     "output_type": "execute_result"
    }
   ],
   "source": [
    "a = {'Apple', 'Ball', 'Cat', 'Dog', 'Fish'}\n",
    "a.remove('Apple')\n",
    "a"
   ]
  },
  {
   "cell_type": "code",
   "execution_count": null,
   "id": "81460367",
   "metadata": {},
   "outputs": [],
   "source": [
    "# # datatypes inside set\n",
    "# inside set no mutable datatype (list,dict,set)\n",
    "# inside set only imutable datatype (string,tuple)\n"
   ]
  },
  {
   "cell_type": "code",
   "execution_count": 23,
   "id": "5c53607b",
   "metadata": {
    "scrolled": true
   },
   "outputs": [
    {
     "name": "stdout",
     "output_type": "stream",
     "text": [
      "{'Akash', 'Sameer', 'John'}\n",
      "{'Steave', 'Shyam', 'Akash', 'John', 'Sobit', 'Nabin', 'Ram', 'Nita', 'Sameer', 'Sankar', 'Gates', 'Satya', 'Job', 'Hari'}\n",
      "Employers workin only in Apple {'Steave', 'Shyam', 'Nabin', 'Sankar', 'Job'}\n",
      "Employers workin only in MS {'Sobit', 'Ram', 'Nita', 'Gates', 'Satya', 'Hari'}\n",
      "Employers not workin in Apple and Microsoft {'xyz', 'abc'}\n"
     ]
    }
   ],
   "source": [
    "# Set for math\n",
    "apple = {\"Steave\",\"Job\",\"Shyam\",\"John\",\"Sameer\",\"Sankar\",\"Akash\",\"Nabin\"}\n",
    "ms = {\"Ram\",\"Hari\",\"Satya\",\"Gates\",\"Sameer\",\"Akash\",\"John\",\"Nita\",\"Sobit\"}\n",
    "U = {'Steave', 'Shyam', 'Akash', 'John', 'Sobit', 'Nabin', 'Ram', 'Nita', \n",
    "     'Sameer', 'Sankar', 'Gates', 'Satya', 'Job', 'Hari',\"xyz\",\"abc\"}\n",
    "\n",
    "#intersection\n",
    "print(apple.intersection(ms))\n",
    "\n",
    "#union\n",
    "print(ms.union(apple))\n",
    "\n",
    "#difference\n",
    "print(\"Employers workin only in Apple\",apple - ms)\n",
    "print(\"Employers workin only in MS\",ms - apple)\n",
    "\n",
    "print(\"Employers not workin in Apple and Microsoft\", U - apple.union(ms))"
   ]
  },
  {
   "cell_type": "code",
   "execution_count": 24,
   "id": "c4f09b65",
   "metadata": {},
   "outputs": [],
   "source": [
    "# subset()\n",
    "# superset()"
   ]
  },
  {
   "cell_type": "code",
   "execution_count": 26,
   "id": "1a10ac0d",
   "metadata": {},
   "outputs": [
    {
     "name": "stdout",
     "output_type": "stream",
     "text": [
      "True\n",
      "False\n"
     ]
    }
   ],
   "source": [
    "a = {1,2,3,4,5,6,7,8,9}\n",
    "b = {3,5,6,7}\n",
    "print(a.issuperset(b))          #boolean function\n",
    "print(a.issubset(b))          #boolean function"
   ]
  },
  {
   "cell_type": "code",
   "execution_count": 27,
   "id": "4003f562",
   "metadata": {},
   "outputs": [
    {
     "data": {
      "text/plain": [
       "True"
      ]
     },
     "execution_count": 27,
     "metadata": {},
     "output_type": "execute_result"
    }
   ],
   "source": [
    "a = {1,2,3,4,5,6,7,8,9}\n",
    "b = {11,44,66,77,}\n",
    "a.isdisjoint(b)"
   ]
  },
  {
   "cell_type": "code",
   "execution_count": null,
   "id": "de77a61b",
   "metadata": {},
   "outputs": [],
   "source": []
  }
 ],
 "metadata": {
  "kernelspec": {
   "display_name": "Python 3 (ipykernel)",
   "language": "python",
   "name": "python3"
  },
  "language_info": {
   "codemirror_mode": {
    "name": "ipython",
    "version": 3
   },
   "file_extension": ".py",
   "mimetype": "text/x-python",
   "name": "python",
   "nbconvert_exporter": "python",
   "pygments_lexer": "ipython3",
   "version": "3.9.12"
  }
 },
 "nbformat": 4,
 "nbformat_minor": 5
}
