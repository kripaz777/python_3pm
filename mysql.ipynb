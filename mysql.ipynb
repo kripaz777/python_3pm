{
 "cells": [
  {
   "cell_type": "code",
   "execution_count": 4,
   "id": "1c3e5944",
   "metadata": {},
   "outputs": [],
   "source": [
    "# !pip install mysql-connector"
   ]
  },
  {
   "cell_type": "code",
   "execution_count": 2,
   "id": "71fe2204",
   "metadata": {},
   "outputs": [],
   "source": [
    "import mysql.connector\n",
    "#importing database\n",
    "database = mysql.connector.connect(\n",
    "host=\"localhost\",\n",
    "user=\"root\",\n",
    "password=\"\",\n",
    "database = \"python_class3pm\"\n",
    ")\n",
    "db = database.cursor()"
   ]
  },
  {
   "cell_type": "code",
   "execution_count": 3,
   "id": "ab216d59",
   "metadata": {},
   "outputs": [
    {
     "name": "stdout",
     "output_type": "stream",
     "text": [
      "(1, 'Sabin', 90, 90, 77, 56, 90, 400.0, 80.0, 'A')\n",
      "(2, 'Nabin', 90, 90, 77, 56, 90, 400.0, 80.0, 'A')\n",
      "(3, 'Rakesh', 78, 67, 89, 90, 78, 430.0, 83.0, 'A')\n"
     ]
    }
   ],
   "source": [
    "db.execute(\"SELECT * FROM student\")\n",
    "result = db.fetchall()\n",
    "for x in result:\n",
    "    print(x)"
   ]
  },
  {
   "cell_type": "code",
   "execution_count": 5,
   "id": "b24f2929",
   "metadata": {},
   "outputs": [
    {
     "name": "stdout",
     "output_type": "stream",
     "text": [
      "(1, 'Sabin', 80.0, 'A')\n",
      "(2, 'Nabin', 80.0, 'A')\n",
      "(3, 'Rakesh', 83.0, 'A')\n"
     ]
    }
   ],
   "source": [
    "db.execute(\"SELECT sn,name,per,grade FROM student\")\n",
    "result = db.fetchall()\n",
    "for x in result:\n",
    "    print(x)"
   ]
  },
  {
   "cell_type": "code",
   "execution_count": null,
   "id": "2e5702d5",
   "metadata": {},
   "outputs": [],
   "source": [
    "db.execute(\"SELECT sn,name,per,grade FROM student WHERE grade = 'A'\")\n",
    "result = db.fetchall()\n",
    "for x in result:\n",
    "    print(x)"
   ]
  },
  {
   "cell_type": "code",
   "execution_count": 6,
   "id": "d91729f4",
   "metadata": {},
   "outputs": [],
   "source": [
    "#insert data into database\n",
    "sql = '''INSERT INTO student (name,physics,chemistry,math,english,nepali,total,per,grade) \n",
    "         VALUES ('Nabin',89,78,73,85,78,430,83,'A')'''\n",
    "db.execute(sql)\n",
    "database.commit()"
   ]
  },
  {
   "cell_type": "code",
   "execution_count": null,
   "id": "81b7312e",
   "metadata": {},
   "outputs": [],
   "source": [
    "name  = input(\"Enter name = \")\n",
    "physics = int(input(\"Enter physics marks = \"))\n",
    "chemistry = int(input(\"Enter chemistry marks = \"))\n",
    "math = int(input(\"Enter math marks = \"))\n",
    "english = int(input(\"Enter english marks = \"))\n",
    "napali = int(input(\"Enter nepali marks = \"))\n",
    "\n",
    "total = physics + chemistry + math + english + napali\n",
    "per = total/5\n",
    "if per >=80:\n",
    "    grade = \"A\"\n",
    "elif per >= 60:\n",
    "    grade = \"B\"\n",
    "elif per >= 45:\n",
    "    grade = \"C\"\n",
    "else:\n",
    "    grade = \"D\"\n",
    "    \n",
    "sql = f'''INSERT INTO student (name,physics,chemistry,math,english,nepali,total,per,grade) \n",
    "         VALUES ('{name}',{physics},{chemistry},{math},{english},{nepali},{total},{per},'{grade}')'''\n",
    "db.execute(sql)\n",
    "database.commit()"
   ]
  },
  {
   "cell_type": "code",
   "execution_count": null,
   "id": "c6693233",
   "metadata": {},
   "outputs": [],
   "source": [
    "# delete\n",
    "sql = \"DELETE FROM student WHERE sn = 5\"\n",
    "db.execute(sql)\n",
    "database.commit()"
   ]
  },
  {
   "cell_type": "code",
   "execution_count": null,
   "id": "06fc3d90",
   "metadata": {},
   "outputs": [],
   "source": [
    "# update\n",
    "sql = \"UPDATE student SET grade = 'A' WHERE sn = 7\"\n",
    "mycursor.execute(sql)\n",
    "db.commit()"
   ]
  }
 ],
 "metadata": {
  "kernelspec": {
   "display_name": "Python 3 (ipykernel)",
   "language": "python",
   "name": "python3"
  },
  "language_info": {
   "codemirror_mode": {
    "name": "ipython",
    "version": 3
   },
   "file_extension": ".py",
   "mimetype": "text/x-python",
   "name": "python",
   "nbconvert_exporter": "python",
   "pygments_lexer": "ipython3",
   "version": "3.9.12"
  }
 },
 "nbformat": 4,
 "nbformat_minor": 5
}
