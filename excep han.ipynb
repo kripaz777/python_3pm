{
 "cells": [
  {
   "cell_type": "code",
   "execution_count": 1,
   "id": "d07f80cb",
   "metadata": {},
   "outputs": [],
   "source": [
    "# try:\n",
    "#     pass\n",
    "# except:\n",
    "#     pass"
   ]
  },
  {
   "cell_type": "code",
   "execution_count": 3,
   "id": "e6c736dc",
   "metadata": {},
   "outputs": [
    {
     "name": "stdout",
     "output_type": "stream",
     "text": [
      "Enter age = Ten\n",
      "Please enter int data\n"
     ]
    }
   ],
   "source": [
    "try:\n",
    "    a = int(input(\"Enter age = \"))\n",
    "except:\n",
    "    print(\"Please enter int data\")"
   ]
  },
  {
   "cell_type": "code",
   "execution_count": 5,
   "id": "d31056f3",
   "metadata": {},
   "outputs": [
    {
     "name": "stdout",
     "output_type": "stream",
     "text": [
      "Enter a = 10\n",
      "Enter b = 0\n",
      "Please enter int data\n"
     ]
    }
   ],
   "source": [
    "try:\n",
    "    a = int(input(\"Enter a = \"))\n",
    "    b = int(input(\"Enter b = \"))\n",
    "    c = a/b\n",
    "    print(c)\n",
    "except:\n",
    "    print(\"Error!\")"
   ]
  },
  {
   "cell_type": "code",
   "execution_count": 10,
   "id": "561f7ad5",
   "metadata": {},
   "outputs": [
    {
     "name": "stdout",
     "output_type": "stream",
     "text": [
      "Enter a = dadsa\n",
      "Please ender int value \n"
     ]
    }
   ],
   "source": [
    "try:\n",
    "    a = int(input(\"Enter a = \"))\n",
    "    b = int(input(\"Enter b = \"))\n",
    "    c = a/b\n",
    "    print(c)\n",
    "except ValueError:\n",
    "    print(\"Please enter int value \")\n",
    "except ZeroDivisionError:\n",
    "    print(\"Value of b can not be zero\")"
   ]
  },
  {
   "cell_type": "code",
   "execution_count": 13,
   "id": "7f689b98",
   "metadata": {},
   "outputs": [
    {
     "name": "stdout",
     "output_type": "stream",
     "text": [
      "Enter a = 10\n",
      "Enter b = 0\n",
      "Value of b can not be zero\n"
     ]
    }
   ],
   "source": [
    "try:\n",
    "    a = int(input(\"Enter a = \"))\n",
    "    b = int(input(\"Enter b = \"))\n",
    "    if b == 0:\n",
    "        raise ZeroDivisionError\n",
    "    c = a/b\n",
    "    print(c)\n",
    "\n",
    "except ValueError:\n",
    "    print(\"Please enter int value \")\n",
    "except ZeroDivisionError:\n",
    "    print(\"Value of b can not be zero\")"
   ]
  },
  {
   "cell_type": "code",
   "execution_count": 15,
   "id": "affe8625",
   "metadata": {},
   "outputs": [
    {
     "ename": "AssertionError",
     "evalue": "",
     "output_type": "error",
     "traceback": [
      "\u001b[1;31m---------------------------------------------------------------------------\u001b[0m",
      "\u001b[1;31mAssertionError\u001b[0m                            Traceback (most recent call last)",
      "Input \u001b[1;32mIn [15]\u001b[0m, in \u001b[0;36m<cell line: 3>\u001b[1;34m()\u001b[0m\n\u001b[0;32m      1\u001b[0m \u001b[38;5;66;03m# assert statement\u001b[39;00m\n\u001b[0;32m      2\u001b[0m a \u001b[38;5;241m=\u001b[39m \u001b[38;5;241m16\u001b[39m\n\u001b[1;32m----> 3\u001b[0m \u001b[38;5;28;01massert\u001b[39;00m a \u001b[38;5;241m>\u001b[39m \u001b[38;5;241m16\u001b[39m\n",
      "\u001b[1;31mAssertionError\u001b[0m: "
     ]
    }
   ],
   "source": [
    "# assert statement\n",
    "a = 16\n",
    "assert a > 16"
   ]
  },
  {
   "cell_type": "code",
   "execution_count": 20,
   "id": "3384a777",
   "metadata": {},
   "outputs": [
    {
     "name": "stdout",
     "output_type": "stream",
     "text": [
      "Enter age = 11\n",
      "You are not allowded\n"
     ]
    }
   ],
   "source": [
    "try:\n",
    "    age = int(input(\"Enter age = \"))\n",
    "    assert age >=18\n",
    "    print(\"You are allowded\")\n",
    "except AssertionError:\n",
    "    print(\"You are not allowded\")\n",
    "except ValueError:\n",
    "    print(\"Please enter int value \")   "
   ]
  },
  {
   "cell_type": "code",
   "execution_count": 28,
   "id": "f833206a",
   "metadata": {},
   "outputs": [
    {
     "name": "stdout",
     "output_type": "stream",
     "text": [
      "Enter username = admin\n",
      "Enter password = asdas\n",
      "username and password does not match\n",
      "Enter username = admin\n",
      "Enter password = admin\n",
      "You are logedin in 2 attempt\n"
     ]
    }
   ],
   "source": [
    "username = \"admin\"\n",
    "password = \"admin\"\n",
    "c = 1\n",
    "def login():\n",
    "    global c\n",
    "    username1 = input(\"Enter username = \")\n",
    "    password1 = input(\"Enter password = \")\n",
    "    try:\n",
    "        assert (username == username1) and (password == password1)\n",
    "\n",
    "    except AssertionError:\n",
    "        print(\"username and password does not match\")\n",
    "        c = c+1\n",
    "        login()\n",
    "    else:\n",
    "        print(f\"You are logedin in {c} attempt\")\n",
    "        \n",
    "login()"
   ]
  },
  {
   "cell_type": "code",
   "execution_count": null,
   "id": "e25c4723",
   "metadata": {},
   "outputs": [],
   "source": []
  }
 ],
 "metadata": {
  "kernelspec": {
   "display_name": "Python 3 (ipykernel)",
   "language": "python",
   "name": "python3"
  },
  "language_info": {
   "codemirror_mode": {
    "name": "ipython",
    "version": 3
   },
   "file_extension": ".py",
   "mimetype": "text/x-python",
   "name": "python",
   "nbconvert_exporter": "python",
   "pygments_lexer": "ipython3",
   "version": "3.9.12"
  }
 },
 "nbformat": 4,
 "nbformat_minor": 5
}
